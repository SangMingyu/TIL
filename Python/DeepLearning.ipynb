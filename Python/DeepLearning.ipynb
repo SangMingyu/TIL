{
  "nbformat": 4,
  "nbformat_minor": 0,
  "metadata": {
    "colab": {
      "provenance": [],
      "gpuType": "T4"
    },
    "kernelspec": {
      "name": "python3",
      "display_name": "Python 3"
    },
    "language_info": {
      "name": "python"
    },
    "accelerator": "GPU"
  },
  "cells": [
    {
      "cell_type": "markdown",
      "source": [
        "## 데이터 불러오기"
      ],
      "metadata": {
        "id": "e0_sZwS1Wgmm"
      }
    },
    {
      "cell_type": "code",
      "execution_count": 1,
      "metadata": {
        "colab": {
          "base_uri": "https://localhost:8080/"
        },
        "id": "VddilUUfV1H_",
        "outputId": "cd13b5db-5ca7-4f3e-a8a5-d2dc46c220fd"
      },
      "outputs": [
        {
          "output_type": "stream",
          "name": "stdout",
          "text": [
            "Downloading data from https://storage.googleapis.com/tensorflow/tf-keras-datasets/mnist.npz\n",
            "11490434/11490434 [==============================] - 2s 0us/step\n"
          ]
        }
      ],
      "source": [
        "from tensorflow.keras.datasets import mnist\n",
        "(train_images, train_labels), (test_images, test_labels) = mnist.load_data()"
      ]
    },
    {
      "cell_type": "markdown",
      "source": [
        "## 데이터 형태 확인"
      ],
      "metadata": {
        "id": "__8RkihSW5RV"
      }
    },
    {
      "cell_type": "code",
      "source": [
        "train_images.shape # 3차원 배열"
      ],
      "metadata": {
        "colab": {
          "base_uri": "https://localhost:8080/"
        },
        "id": "Y-S7vCnOWw_C",
        "outputId": "326f9212-c8be-4b87-8400-b866fd916fa9"
      },
      "execution_count": 2,
      "outputs": [
        {
          "output_type": "execute_result",
          "data": {
            "text/plain": [
              "(60000, 28, 28)"
            ]
          },
          "metadata": {},
          "execution_count": 2
        }
      ]
    },
    {
      "cell_type": "code",
      "source": [
        "len(train_labels)"
      ],
      "metadata": {
        "colab": {
          "base_uri": "https://localhost:8080/"
        },
        "id": "qqvzyKTAW-hZ",
        "outputId": "fb88a0f2-a120-4391-f9f9-fea3b90d7adf"
      },
      "execution_count": 3,
      "outputs": [
        {
          "output_type": "execute_result",
          "data": {
            "text/plain": [
              "60000"
            ]
          },
          "metadata": {},
          "execution_count": 3
        }
      ]
    },
    {
      "cell_type": "code",
      "source": [
        "train_labels[:5]"
      ],
      "metadata": {
        "colab": {
          "base_uri": "https://localhost:8080/"
        },
        "id": "E8fx_sAqXMF5",
        "outputId": "1d9d4191-30a5-437b-bac5-51ae515b21ca"
      },
      "execution_count": 4,
      "outputs": [
        {
          "output_type": "execute_result",
          "data": {
            "text/plain": [
              "array([5, 0, 4, 1, 9], dtype=uint8)"
            ]
          },
          "metadata": {},
          "execution_count": 4
        }
      ]
    },
    {
      "cell_type": "code",
      "source": [
        "test_images.shape # 3차원 배열"
      ],
      "metadata": {
        "colab": {
          "base_uri": "https://localhost:8080/"
        },
        "id": "cZR9-iACXQ_A",
        "outputId": "72d3c913-6cc3-4e88-e173-004b5ea74b4c"
      },
      "execution_count": 5,
      "outputs": [
        {
          "output_type": "execute_result",
          "data": {
            "text/plain": [
              "(10000, 28, 28)"
            ]
          },
          "metadata": {},
          "execution_count": 5
        }
      ]
    },
    {
      "cell_type": "code",
      "source": [
        "test_labels"
      ],
      "metadata": {
        "colab": {
          "base_uri": "https://localhost:8080/"
        },
        "id": "fmU-oJaGXYmP",
        "outputId": "fc95fd20-5358-4e63-94b8-82f175332ed1"
      },
      "execution_count": 6,
      "outputs": [
        {
          "output_type": "execute_result",
          "data": {
            "text/plain": [
              "array([7, 2, 1, ..., 4, 5, 6], dtype=uint8)"
            ]
          },
          "metadata": {},
          "execution_count": 6
        }
      ]
    },
    {
      "cell_type": "markdown",
      "source": [
        "## 신경망 구조"
      ],
      "metadata": {
        "id": "jbfuYQChXs4d"
      }
    },
    {
      "cell_type": "code",
      "source": [
        "from tensorflow import keras\n",
        "from tensorflow.keras import layers\n",
        "model = keras.Sequential([\n",
        "    layers.Dense(512, activation=\"relu\"),    # 입력\n",
        "    layers.Dense(10, activation=\"softmax\") # 출력, 10이 의미하는 것은 예측할 범주의 개수\n",
        "])\n"
      ],
      "metadata": {
        "id": "SXXUNwDaXk1Z"
      },
      "execution_count": 7,
      "outputs": []
    },
    {
      "cell_type": "markdown",
      "source": [
        "## 컴파일 단계\n",
        "- 어떤 형태로 훈련을 시킬 것이냐를 정의\n",
        "- 경사하강법 : 기울기를 찾는데, step을 어떤식으로 할 것인가 정의하는 것\n",
        "- 경사하강법의 종류도 되게 많음"
      ],
      "metadata": {
        "id": "3uuNKxqMZO9p"
      }
    },
    {
      "cell_type": "code",
      "source": [
        "model.compile(optimizer = 'rmsprop',\n",
        "               loss = 'sparse_categorical_crossentropy',\n",
        "               metrics = ['accuracy'])"
      ],
      "metadata": {
        "id": "hexZeNrIYPDM"
      },
      "execution_count": 8,
      "outputs": []
    },
    {
      "cell_type": "markdown",
      "source": [
        "## 이미지 데이터 준비\n",
        "- 데이터를 모델에 맞는 크기로 변경\n",
        " + 주의! 이 때, 데이터타입 변경 ( 연산할 때, 데이터 타입 미 매칭으로 인한 오류 )\n",
        " + 기본값 : float64, 텐서플로 기본값 : float32"
      ],
      "metadata": {
        "id": "MIkJQ0Baaf86"
      }
    },
    {
      "cell_type": "code",
      "source": [
        "train_images = train_images.reshape((60000, 28 * 28))\n",
        "train_images = train_images.astype('float32') / 255   # [0, 255] rescale\n",
        "test_images = test_images.reshape((10000, 28 * 28))\n",
        "test_images = test_images.astype('float32') / 255   # [0, 255] rescale\n",
        "\n",
        "train_images.shape, test_images.shape"
      ],
      "metadata": {
        "colab": {
          "base_uri": "https://localhost:8080/"
        },
        "id": "2SteW0ToaM0M",
        "outputId": "b48753ad-5734-4fc7-d8c1-db98b8562081"
      },
      "execution_count": 9,
      "outputs": [
        {
          "output_type": "execute_result",
          "data": {
            "text/plain": [
              "((60000, 784), (10000, 784))"
            ]
          },
          "metadata": {},
          "execution_count": 9
        }
      ]
    },
    {
      "cell_type": "code",
      "source": [
        "60000/128"
      ],
      "metadata": {
        "colab": {
          "base_uri": "https://localhost:8080/"
        },
        "id": "NaBcRW8E3yR1",
        "outputId": "090aa208-b9a0-4714-ca1e-9d66bf946d3c"
      },
      "execution_count": 38,
      "outputs": [
        {
          "output_type": "execute_result",
          "data": {
            "text/plain": [
              "468.75"
            ]
          },
          "metadata": {},
          "execution_count": 38
        }
      ]
    },
    {
      "cell_type": "code",
      "source": [
        "model.fit(train_images, train_labels, epochs = 5, batch_size = 128)"
      ],
      "metadata": {
        "colab": {
          "base_uri": "https://localhost:8080/"
        },
        "id": "dd2CHjz3b36c",
        "outputId": "d780c2e9-d7e0-4e7d-bd91-0fd87bc18f6b"
      },
      "execution_count": 10,
      "outputs": [
        {
          "output_type": "stream",
          "name": "stdout",
          "text": [
            "Epoch 1/5\n",
            "469/469 [==============================] - 7s 3ms/step - loss: 0.2616 - accuracy: 0.9257\n",
            "Epoch 2/5\n",
            "469/469 [==============================] - 1s 3ms/step - loss: 0.1059 - accuracy: 0.9693\n",
            "Epoch 3/5\n",
            "469/469 [==============================] - 2s 4ms/step - loss: 0.0692 - accuracy: 0.9792\n",
            "Epoch 4/5\n",
            "469/469 [==============================] - 2s 3ms/step - loss: 0.0503 - accuracy: 0.9845\n",
            "Epoch 5/5\n",
            "469/469 [==============================] - 1s 3ms/step - loss: 0.0366 - accuracy: 0.9891\n"
          ]
        },
        {
          "output_type": "execute_result",
          "data": {
            "text/plain": [
              "<keras.callbacks.History at 0x7cd789b3d8d0>"
            ]
          },
          "metadata": {},
          "execution_count": 10
        }
      ]
    },
    {
      "cell_type": "code",
      "source": [
        "test_digits = test_images[0:5]\n",
        "predictions = model.predict(test_digits)\n",
        "predictions[0].argmax()"
      ],
      "metadata": {
        "colab": {
          "base_uri": "https://localhost:8080/"
        },
        "id": "fjHPEKqKcLWB",
        "outputId": "347c3619-9a1b-44dd-be8c-2cda33e22c9a"
      },
      "execution_count": 11,
      "outputs": [
        {
          "output_type": "stream",
          "name": "stdout",
          "text": [
            "1/1 [==============================] - 0s 65ms/step\n"
          ]
        },
        {
          "output_type": "execute_result",
          "data": {
            "text/plain": [
              "7"
            ]
          },
          "metadata": {},
          "execution_count": 11
        }
      ]
    },
    {
      "cell_type": "code",
      "source": [
        "predictions[0][7]"
      ],
      "metadata": {
        "colab": {
          "base_uri": "https://localhost:8080/"
        },
        "id": "iCo5NLNccd-z",
        "outputId": "cd63f647-be20-4c7f-d645-ece02b885168"
      },
      "execution_count": 12,
      "outputs": [
        {
          "output_type": "execute_result",
          "data": {
            "text/plain": [
              "0.9999261"
            ]
          },
          "metadata": {},
          "execution_count": 12
        }
      ]
    },
    {
      "cell_type": "code",
      "source": [
        "test_labels[0]"
      ],
      "metadata": {
        "colab": {
          "base_uri": "https://localhost:8080/"
        },
        "id": "cPZ_-qpMcg5o",
        "outputId": "c2e48146-8366-4b66-f3b1-affcbaa82420"
      },
      "execution_count": 13,
      "outputs": [
        {
          "output_type": "execute_result",
          "data": {
            "text/plain": [
              "7"
            ]
          },
          "metadata": {},
          "execution_count": 13
        }
      ]
    },
    {
      "cell_type": "code",
      "source": [
        "test_loss, test_acc = model.evaluate(test_images, test_labels)\n",
        "print(\"테스트 정확도\", test_acc)"
      ],
      "metadata": {
        "colab": {
          "base_uri": "https://localhost:8080/"
        },
        "id": "cCSOBDfhcl_E",
        "outputId": "0f51165b-3402-4799-cca9-b0922f1164f7"
      },
      "execution_count": 14,
      "outputs": [
        {
          "output_type": "stream",
          "name": "stdout",
          "text": [
            "313/313 [==============================] - 1s 2ms/step - loss: 0.0623 - accuracy: 0.9807\n",
            "테스트 정확도 0.9807000160217285\n"
          ]
        }
      ]
    },
    {
      "cell_type": "markdown",
      "source": [
        "## 기본문법"
      ],
      "metadata": {
        "id": "sWW1N7PJbciz"
      }
    },
    {
      "cell_type": "markdown",
      "source": [
        "### 스칼라(랭크-0 텐서)"
      ],
      "metadata": {
        "id": "9bnUBw3-yTzR"
      }
    },
    {
      "cell_type": "code",
      "source": [
        "import numpy as np\n",
        "x = np.array(12) # 스칼라 (값 1개)\n",
        "x"
      ],
      "metadata": {
        "colab": {
          "base_uri": "https://localhost:8080/"
        },
        "id": "weZ1WDigyRvv",
        "outputId": "4f1485cb-77a8-4228-fbc4-cad9483c46ca"
      },
      "execution_count": 15,
      "outputs": [
        {
          "output_type": "execute_result",
          "data": {
            "text/plain": [
              "array(12)"
            ]
          },
          "metadata": {},
          "execution_count": 15
        }
      ]
    },
    {
      "cell_type": "code",
      "source": [
        "x.ndim"
      ],
      "metadata": {
        "colab": {
          "base_uri": "https://localhost:8080/"
        },
        "id": "GCGqh_QVybT5",
        "outputId": "3bfc5d58-0c35-41e8-cdfb-53870747dc85"
      },
      "execution_count": 16,
      "outputs": [
        {
          "output_type": "execute_result",
          "data": {
            "text/plain": [
              "0"
            ]
          },
          "metadata": {},
          "execution_count": 16
        }
      ]
    },
    {
      "cell_type": "markdown",
      "source": [
        "### 벡터(랭크-1 텐서)"
      ],
      "metadata": {
        "id": "O_UMAxMyygF8"
      }
    },
    {
      "cell_type": "code",
      "source": [
        "x = np.array([12, 3, 6, 14, 7])\n",
        "x"
      ],
      "metadata": {
        "colab": {
          "base_uri": "https://localhost:8080/"
        },
        "id": "IPXQuMJ9ydFB",
        "outputId": "3df7f045-cecc-4980-9079-af0301d23575"
      },
      "execution_count": 17,
      "outputs": [
        {
          "output_type": "execute_result",
          "data": {
            "text/plain": [
              "array([12,  3,  6, 14,  7])"
            ]
          },
          "metadata": {},
          "execution_count": 17
        }
      ]
    },
    {
      "cell_type": "code",
      "source": [
        "x.shape, x.ndim # 1차원 배열 = 랭크-1 텐서 = 벡터"
      ],
      "metadata": {
        "colab": {
          "base_uri": "https://localhost:8080/"
        },
        "id": "0OvGke-0ylns",
        "outputId": "f68ce6e2-a82e-4d2b-d8d7-bf82a184b86f"
      },
      "execution_count": 19,
      "outputs": [
        {
          "output_type": "execute_result",
          "data": {
            "text/plain": [
              "((5,), 1)"
            ]
          },
          "metadata": {},
          "execution_count": 19
        }
      ]
    },
    {
      "cell_type": "markdown",
      "source": [
        "### 행렬(랭크-2 텐서)"
      ],
      "metadata": {
        "id": "9UdPaIOHyw8U"
      }
    },
    {
      "cell_type": "code",
      "source": [
        "x = np.array([[5, 78, 2, 34, 0],\n",
        "              [6, 79, 3, 35, 1],\n",
        "              [7, 80, 4, 36, 2]])\n",
        "\n",
        "x.shape, x.ndim # 2차원 배열 = 랭크-2 텐서 = 행렬"
      ],
      "metadata": {
        "colab": {
          "base_uri": "https://localhost:8080/"
        },
        "id": "_c0bjUjcynk_",
        "outputId": "ac8707b0-1470-4a74-df96-7c01ba5adf25"
      },
      "execution_count": 21,
      "outputs": [
        {
          "output_type": "execute_result",
          "data": {
            "text/plain": [
              "((3, 5), 2)"
            ]
          },
          "metadata": {},
          "execution_count": 21
        }
      ]
    },
    {
      "cell_type": "markdown",
      "source": [
        "### 랭크-3 텐서와 더 높은 랭크의 텐서"
      ],
      "metadata": {
        "id": "egPZFWabzFzk"
      }
    },
    {
      "cell_type": "code",
      "source": [
        "x = np.array([[[5, 78, 2, 34, 0],\n",
        "               [6, 79, 3, 35, 1],\n",
        "               [7, 80, 4, 36, 2]],\n",
        "              [[5, 78, 2, 34, 0],\n",
        "               [6, 79, 3, 35, 1],\n",
        "               [7, 80, 4, 36, 2]],\n",
        "              [[5, 78, 2, 34, 0],\n",
        "               [6, 79, 3, 35, 1],\n",
        "               [7, 80, 4, 36, 2]]])\n",
        "\n",
        "x.shape, x.ndim"
      ],
      "metadata": {
        "colab": {
          "base_uri": "https://localhost:8080/"
        },
        "id": "oy8qEIHWy8P_",
        "outputId": "806657e8-1ff8-4958-9cff-42857ed7efd1"
      },
      "execution_count": 22,
      "outputs": [
        {
          "output_type": "execute_result",
          "data": {
            "text/plain": [
              "((3, 3, 5), 3)"
            ]
          },
          "metadata": {},
          "execution_count": 22
        }
      ]
    },
    {
      "cell_type": "markdown",
      "source": [
        "## 데이터 다시보기"
      ],
      "metadata": {
        "id": "Hh1ny_aB0Gx_"
      }
    },
    {
      "cell_type": "code",
      "source": [
        "from tensorflow.keras.datasets import mnist\n",
        "(train_images, train_labels), (test_images, test_labels) = mnist.load_data()"
      ],
      "metadata": {
        "id": "NdaRJ-m20GbV"
      },
      "execution_count": 23,
      "outputs": []
    },
    {
      "cell_type": "code",
      "source": [
        "train_images.ndim"
      ],
      "metadata": {
        "colab": {
          "base_uri": "https://localhost:8080/"
        },
        "id": "dhNJ610M0JUQ",
        "outputId": "e01d263f-e213-44f7-e945-b119374a39db"
      },
      "execution_count": 24,
      "outputs": [
        {
          "output_type": "execute_result",
          "data": {
            "text/plain": [
              "3"
            ]
          },
          "metadata": {},
          "execution_count": 24
        }
      ]
    },
    {
      "cell_type": "code",
      "source": [
        "train_images.shape"
      ],
      "metadata": {
        "colab": {
          "base_uri": "https://localhost:8080/"
        },
        "id": "aZ5dEf4W0MPg",
        "outputId": "cf785763-ac0d-4a1e-e01b-c3204d34f4e7"
      },
      "execution_count": 25,
      "outputs": [
        {
          "output_type": "execute_result",
          "data": {
            "text/plain": [
              "(60000, 28, 28)"
            ]
          },
          "metadata": {},
          "execution_count": 25
        }
      ]
    },
    {
      "cell_type": "code",
      "source": [
        "train_images.dtype"
      ],
      "metadata": {
        "colab": {
          "base_uri": "https://localhost:8080/"
        },
        "id": "CRCzMdHS0SvQ",
        "outputId": "35e33cb2-e697-4e88-ccda-f00a393674b0"
      },
      "execution_count": 26,
      "outputs": [
        {
          "output_type": "execute_result",
          "data": {
            "text/plain": [
              "dtype('uint8')"
            ]
          },
          "metadata": {},
          "execution_count": 26
        }
      ]
    },
    {
      "cell_type": "markdown",
      "source": [
        "## 이미지 출력\n"
      ],
      "metadata": {
        "id": "TmfR3-md0jpQ"
      }
    },
    {
      "cell_type": "code",
      "source": [
        "import matplotlib.pyplot as plt\n",
        "digit = train_images[4]\n",
        "plt.imshow(digit, cmap = plt.cm.binary)\n",
        "plt.show()"
      ],
      "metadata": {
        "colab": {
          "base_uri": "https://localhost:8080/",
          "height": 430
        },
        "id": "yICRRZdE0Zil",
        "outputId": "33fa3c84-905e-4bc8-eee1-51296fc67bf4"
      },
      "execution_count": 30,
      "outputs": [
        {
          "output_type": "display_data",
          "data": {
            "text/plain": [
              "<Figure size 640x480 with 1 Axes>"
            ],
            "image/png": "[encoded data removed]"
          },
          "metadata": {}
        }
      ]
    },
    {
      "cell_type": "code",
      "source": [
        "fig, ax = plt.subplots()\n",
        "ax.imshow(digit, cmap = plt.cm.binary)\n",
        "plt.show()"
      ],
      "metadata": {
        "colab": {
          "base_uri": "https://localhost:8080/",
          "height": 430
        },
        "id": "sxhI7IHi0xEF",
        "outputId": "7bf09c11-fc89-4de9-e245-da5cafa7de57"
      },
      "execution_count": 29,
      "outputs": [
        {
          "output_type": "display_data",
          "data": {
            "text/plain": [
              "<Figure size 640x480 with 1 Axes>"
            ],
            "image/png": "[encoded data removed]"
          },
          "metadata": {}
        }
      ]
    },
    {
      "cell_type": "code",
      "source": [
        "train_labels[4]"
      ],
      "metadata": {
        "colab": {
          "base_uri": "https://localhost:8080/"
        },
        "id": "okvRlH-o1RS5",
        "outputId": "23fc301d-d3e8-4a76-c933-662c84b11642"
      },
      "execution_count": 31,
      "outputs": [
        {
          "output_type": "execute_result",
          "data": {
            "text/plain": [
              "9"
            ]
          },
          "metadata": {},
          "execution_count": 31
        }
      ]
    },
    {
      "cell_type": "markdown",
      "source": [
        "## Numpy로 텐서 조작하기"
      ],
      "metadata": {
        "id": "UrV3LvtU1yDH"
      }
    },
    {
      "cell_type": "code",
      "source": [
        "my_slice = train_images[10:100] # 90개의 이미지를 가져옴\n",
        "my_slice.shape"
      ],
      "metadata": {
        "colab": {
          "base_uri": "https://localhost:8080/"
        },
        "id": "Yi9_YWH21ROf",
        "outputId": "f883b3e7-f0df-461f-a5cd-9c51558ae079"
      },
      "execution_count": 32,
      "outputs": [
        {
          "output_type": "execute_result",
          "data": {
            "text/plain": [
              "(90, 28, 28)"
            ]
          },
          "metadata": {},
          "execution_count": 32
        }
      ]
    },
    {
      "cell_type": "code",
      "source": [
        "my_slice = train_images[10:100, :, :]\n",
        "my_slice.shape"
      ],
      "metadata": {
        "colab": {
          "base_uri": "https://localhost:8080/"
        },
        "id": "BLbbYYRt1-xk",
        "outputId": "cfae22bc-ee91-4c0e-8906-925efcc09ea7"
      },
      "execution_count": 34,
      "outputs": [
        {
          "output_type": "execute_result",
          "data": {
            "text/plain": [
              "(90, 28, 28)"
            ]
          },
          "metadata": {},
          "execution_count": 34
        }
      ]
    },
    {
      "cell_type": "code",
      "source": [
        "my_slice = train_images[10:100, 0:28, 0:28]\n",
        "my_slice.shape"
      ],
      "metadata": {
        "colab": {
          "base_uri": "https://localhost:8080/"
        },
        "id": "l-CMmZWG2CjO",
        "outputId": "ad35460d-250e-4ba0-919e-b2f4e1baf81e"
      },
      "execution_count": 35,
      "outputs": [
        {
          "output_type": "execute_result",
          "data": {
            "text/plain": [
              "(90, 28, 28)"
            ]
          },
          "metadata": {},
          "execution_count": 35
        }
      ]
    },
    {
      "cell_type": "code",
      "source": [
        "my_slice = train_images[:, 14:, 14:] # 오른쪽 아래\n",
        "my_slice.shape"
      ],
      "metadata": {
        "colab": {
          "base_uri": "https://localhost:8080/"
        },
        "id": "rtJHqyb52IdQ",
        "outputId": "84fc4756-544e-4113-a952-7945df658a86"
      },
      "execution_count": 36,
      "outputs": [
        {
          "output_type": "execute_result",
          "data": {
            "text/plain": [
              "(60000, 14, 14)"
            ]
          },
          "metadata": {},
          "execution_count": 36
        }
      ]
    },
    {
      "cell_type": "code",
      "source": [
        "my_slice = train_images[:, 7:-7, 7:-7]\n",
        "my_slice.shape"
      ],
      "metadata": {
        "colab": {
          "base_uri": "https://localhost:8080/"
        },
        "id": "2XbpWx3q2fCw",
        "outputId": "40696e1f-bd00-4fcb-ed46-ede217e41037"
      },
      "execution_count": 37,
      "outputs": [
        {
          "output_type": "execute_result",
          "data": {
            "text/plain": [
              "(60000, 14, 14)"
            ]
          },
          "metadata": {},
          "execution_count": 37
        }
      ]
    },
    {
      "cell_type": "markdown",
      "source": [
        "## 배치 데이터\n",
        "- 딥러닝 모델은 한 번에 전체 데이터셋을 처리하지 않는다!\n",
        "- 대신 데이터를 작은 배치로 나눈다"
      ],
      "metadata": {
        "id": "smCDvmHK3JTf"
      }
    },
    {
      "cell_type": "code",
      "source": [
        "batch = train_images[:128] # 이미지 갯수를 나눔"
      ],
      "metadata": {
        "id": "q3DbMxLt2vKy"
      },
      "execution_count": null,
      "outputs": []
    },
    {
      "cell_type": "markdown",
      "source": [
        "## 텐서 연산\n"
      ],
      "metadata": {
        "id": "S46xEuB97Dwf"
      }
    },
    {
      "cell_type": "code",
      "source": [
        "# keras.layers.Dense(512, activation=\"relu\")"
      ],
      "metadata": {
        "id": "WF3aIyeV4AY6"
      },
      "execution_count": null,
      "outputs": []
    },
    {
      "cell_type": "code",
      "source": [
        "# relu 함수 구현\n",
        "def naive_relu(x): # 2차원 배열\n",
        "  assert len(x.shape) == 2\n",
        "  x = x.copy() # 입력 텐서 자체를 바꾸지 않고 복사한다.\n",
        "  for i in range(x.shape[0]):\n",
        "    for j in range(x.shape[1]):\n",
        "      x[i, j] = max(x[i, j], 0)\n",
        "  return x\n",
        "\n",
        "def naive_add(x, y):\n",
        "  assert len(x.shape) == 2 # 2차원 배열\n",
        "  assert x.shape == y.shape\n",
        "  x = x.copy()\n",
        "  for i in range(x.shape[0]):\n",
        "    for j in range(x.shape[1]):\n",
        "      x[i, j] += y[i, j]\n",
        "  return x"
      ],
      "metadata": {
        "id": "CboXHcV27SXF"
      },
      "execution_count": 39,
      "outputs": []
    },
    {
      "cell_type": "markdown",
      "source": [
        "- 원소별 연산"
      ],
      "metadata": {
        "id": "kQlEjxaz81NO"
      }
    },
    {
      "cell_type": "code",
      "source": [
        "import time\n",
        "x = np.random.random((20, 100))\n",
        "y = np.random.random((20, 100))\n",
        "\n",
        "t0 = time.time()\n",
        "for _ in range(1000):\n",
        "  z = x + y # 각각 원소별 덧셈\n",
        "  z = np.maximum(z, 0.) # 원소별 렐루 함수\n",
        "print(\"걸린 시간: {0:.2f} s\".format(time.time() - t0))"
      ],
      "metadata": {
        "colab": {
          "base_uri": "https://localhost:8080/"
        },
        "id": "7VgjF02V8wsV",
        "outputId": "0a883416-3a4a-4529-bef6-24cdd7814ec4"
      },
      "execution_count": 40,
      "outputs": [
        {
          "output_type": "stream",
          "name": "stdout",
          "text": [
            "걸린 시간: 0.01 s\n"
          ]
        }
      ]
    },
    {
      "cell_type": "code",
      "source": [
        "t0 = time.time()\n",
        "for _ in range(1000):\n",
        "  z = naive_add(x, y)\n",
        "  z = naive_relu(z)\n",
        "print(\"걸린 시간: {0:.2f} s\".format(time.time() - t0))"
      ],
      "metadata": {
        "colab": {
          "base_uri": "https://localhost:8080/"
        },
        "id": "NHkmqxl79cCF",
        "outputId": "1f7756e1-be85-46e1-d675-eff4b70a5787"
      },
      "execution_count": 41,
      "outputs": [
        {
          "output_type": "stream",
          "name": "stdout",
          "text": [
            "걸린 시간: 1.95 s\n"
          ]
        }
      ]
    },
    {
      "cell_type": "markdown",
      "source": [
        "## 브로드캐스팅\n",
        "- 참고 : https://numpy.org/doc/stable/user/basics.broadcasting.html"
      ],
      "metadata": {
        "id": "3H2bbR8o-i1-"
      }
    },
    {
      "cell_type": "code",
      "source": [
        "import numpy as np\n",
        "X = np.random.random((32, 10)) # X는 크기가 32, 10인 행렬\n",
        "y = np.random.random((10, )) # 1차원 벡터\n",
        "y.shape, y.ndim"
      ],
      "metadata": {
        "colab": {
          "base_uri": "https://localhost:8080/"
        },
        "id": "DEecnG519u1V",
        "outputId": "91a36507-a48f-4b92-fcca-866befbc4c5d"
      },
      "execution_count": 44,
      "outputs": [
        {
          "output_type": "execute_result",
          "data": {
            "text/plain": [
              "((10,), 1)"
            ]
          },
          "metadata": {},
          "execution_count": 44
        }
      ]
    },
    {
      "cell_type": "code",
      "source": [
        "y = np.expand_dims(y, axis=0) # 2차원 행렬\n",
        "y.shape, y.ndim"
      ],
      "metadata": {
        "colab": {
          "base_uri": "https://localhost:8080/"
        },
        "id": "_7UZaYhW-2GU",
        "outputId": "43ba1d28-ec6e-4eb8-fa42-eaee6dbcd8e9"
      },
      "execution_count": 47,
      "outputs": [
        {
          "output_type": "execute_result",
          "data": {
            "text/plain": [
              "((1, 1, 10), 3)"
            ]
          },
          "metadata": {},
          "execution_count": 47
        }
      ]
    },
    {
      "cell_type": "code",
      "source": [
        "Y = np.concatenate([y] * 32, axis = 0)\n",
        "Y.shape, Y.ndim"
      ],
      "metadata": {
        "colab": {
          "base_uri": "https://localhost:8080/"
        },
        "id": "Qn9YshOy-3xo",
        "outputId": "9cea1111-4a3c-4c54-8907-1a5e7bb6353d"
      },
      "execution_count": 48,
      "outputs": [
        {
          "output_type": "execute_result",
          "data": {
            "text/plain": [
              "((32, 1, 10), 3)"
            ]
          },
          "metadata": {},
          "execution_count": 48
        }
      ]
    },
    {
      "cell_type": "code",
      "source": [
        "def naive_add_matrix_and_vector(x, y):\n",
        "    assert len(x.shape) == 2\n",
        "    assert len(y.shape) == 1\n",
        "    assert x.shape[1] == y.shape[0]\n",
        "    x = x.copy()\n",
        "    for i in range(x.shape[0]):\n",
        "        for j in range(x.shape[1]):\n",
        "            x[i, j] += y[j]\n",
        "    return x"
      ],
      "metadata": {
        "id": "qVozTyQx_RVZ"
      },
      "execution_count": 49,
      "outputs": []
    },
    {
      "cell_type": "code",
      "source": [
        "# p.79\n",
        "import numpy as np\n",
        "x = np.random.random((64, 3, 32, 10)) # 4차원\n",
        "y = np.random.random((32, 10)) # 배열 다름 2차원\n",
        "z = np.maximum(x, y) # 4차원"
      ],
      "metadata": {
        "id": "FwSJNcor_2id"
      },
      "execution_count": 50,
      "outputs": []
    },
    {
      "cell_type": "code",
      "source": [
        "z.shape, x.shape, x.ndim, y.ndim"
      ],
      "metadata": {
        "colab": {
          "base_uri": "https://localhost:8080/"
        },
        "id": "u8iMwc3OAAyD",
        "outputId": "0101df43-d1ef-46fe-8658-dfd8e0fb1178"
      },
      "execution_count": 55,
      "outputs": [
        {
          "output_type": "execute_result",
          "data": {
            "text/plain": [
              "((64, 3, 32, 10), (64, 3, 32, 10), 4, 2)"
            ]
          },
          "metadata": {},
          "execution_count": 55
        }
      ]
    },
    {
      "cell_type": "markdown",
      "source": [
        "## 텐서 곱셈"
      ],
      "metadata": {
        "id": "81D7J2fxAert"
      }
    },
    {
      "cell_type": "code",
      "source": [
        "# 행렬곱셈 np.dot p.79\n",
        "x = np.random.random((32, ))\n",
        "y = np.random.random((32, ))\n",
        "z = np.dot(x, y)\n",
        "z"
      ],
      "metadata": {
        "colab": {
          "base_uri": "https://localhost:8080/"
        },
        "id": "RAPfXCXhABVy",
        "outputId": "ddb59138-d33e-44e4-e25d-9f99590a9e36"
      },
      "execution_count": 57,
      "outputs": [
        {
          "output_type": "execute_result",
          "data": {
            "text/plain": [
              "8.633352882708827"
            ]
          },
          "metadata": {},
          "execution_count": 57
        }
      ]
    },
    {
      "cell_type": "markdown",
      "source": [
        "- 점곱 연산 함수를 만듬"
      ],
      "metadata": {
        "id": "7YTmv8eaBI53"
      }
    },
    {
      "cell_type": "code",
      "source": [
        "def naive_vector_dot(x, y):\n",
        "    assert len(x.shape) == 1\n",
        "    assert len(y.shape) == 1\n",
        "    assert x.shape[0] == y.shape[0]\n",
        "    z = 0.\n",
        "    for i in range(x.shape[0]):\n",
        "        z += x[i] * y[i]\n",
        "    return z"
      ],
      "metadata": {
        "id": "N_WHfs0wA_78"
      },
      "execution_count": 58,
      "outputs": []
    },
    {
      "cell_type": "code",
      "source": [
        "naive_vector_dot(x, y)"
      ],
      "metadata": {
        "colab": {
          "base_uri": "https://localhost:8080/"
        },
        "id": "QdJA1T88BTnD",
        "outputId": "3a3efdad-f647-42b7-b430-87fa8932dee0"
      },
      "execution_count": 59,
      "outputs": [
        {
          "output_type": "execute_result",
          "data": {
            "text/plain": [
              "8.633352882708827"
            ]
          },
          "metadata": {},
          "execution_count": 59
        }
      ]
    },
    {
      "cell_type": "markdown",
      "source": [
        "- 행렬과 벡터를 행렬곱 하는 메서드를 만듬"
      ],
      "metadata": {
        "id": "HlXiGoSMBeeS"
      }
    },
    {
      "cell_type": "code",
      "source": [
        "def naive_matrix_vector_dot(x, y):\n",
        "    assert len(x.shape) == 2 # 2차원 행렬\n",
        "    assert len(y.shape) == 1 # 1차원 벡터\n",
        "    assert x.shape[1] == y.shape[0]\n",
        "    z = np.zeros(x.shape[0])\n",
        "    for i in range(x.shape[0]):\n",
        "        for j in range(x.shape[1]):\n",
        "            z[i] += x[i, j] * y[j]\n",
        "    return z"
      ],
      "metadata": {
        "id": "GBH0IAy7BVW4"
      },
      "execution_count": 62,
      "outputs": []
    },
    {
      "cell_type": "markdown",
      "source": [
        "- 기존에 만든 함수를 재사용해서 표현"
      ],
      "metadata": {
        "id": "J9hyncfpCHEP"
      }
    },
    {
      "cell_type": "code",
      "source": [
        "def naive_matrix_vector_dot(x, y):\n",
        "    z = np.zeros(x.shape[0])\n",
        "    for i in range(x.shape[0]):\n",
        "        z[i] = naive_vector_dot(x[i, :], y)\n",
        "    return z"
      ],
      "metadata": {
        "id": "iTkzOEV_CNpa"
      },
      "execution_count": 63,
      "outputs": []
    },
    {
      "cell_type": "markdown",
      "source": [
        "- 행렬곱 연산 함수를 구현함"
      ],
      "metadata": {
        "id": "waHU4zAWCaCP"
      }
    },
    {
      "cell_type": "code",
      "source": [
        "def naive_matrix_dot(x, y):\n",
        "    assert len(x.shape) == 2\n",
        "    assert len(y.shape) == 2\n",
        "    assert x.shape[1] == y.shape[0]\n",
        "    z = np.zeros((x.shape[0], y.shape[1]))\n",
        "    for i in range(x.shape[0]):\n",
        "        for j in range(y.shape[1]):\n",
        "            row_x = x[i, :]\n",
        "            column_y = y[:, j]\n",
        "            z[i, j] = naive_vector_dot(row_x, column_y)\n",
        "    return z"
      ],
      "metadata": {
        "id": "uc3iFsBSCTQI"
      },
      "execution_count": 64,
      "outputs": []
    },
    {
      "cell_type": "markdown",
      "source": [
        "- 텐서플로는 행렬곱 연산을 기반으로 한다!"
      ],
      "metadata": {
        "id": "lho1Ko9UCrXS"
      }
    },
    {
      "cell_type": "code",
      "source": [
        "x = np.random.random((64, 32))\n",
        "y = np.random.random((32, 16))\n",
        "z = np.random.random((16, 8))\n",
        "\n",
        "result = naive_matrix_dot(x, y)\n",
        "naive_matrix_dot(result, z)"
      ],
      "metadata": {
        "colab": {
          "base_uri": "https://localhost:8080/"
        },
        "id": "kJcNMNh_CzNJ",
        "outputId": "9782855a-b4ec-48ee-cdea-92b45a3ee665"
      },
      "execution_count": 68,
      "outputs": [
        {
          "output_type": "execute_result",
          "data": {
            "text/plain": [
              "array([[60.58143091, 67.22479646, 60.82804402, 51.16409472, 54.43508457,\n",
              "        65.97895045, 50.54107645, 58.91170099],\n",
              "       [70.99556184, 81.50028803, 72.03202489, 60.71837456, 63.54815759,\n",
              "        79.43001792, 59.59438275, 70.54839393],\n",
              "       [64.14879529, 75.2933411 , 66.24561033, 55.15592009, 58.51371578,\n",
              "        72.8128391 , 54.6079653 , 64.69612867],\n",
              "       [68.01139307, 77.83416258, 69.7282433 , 57.09575464, 62.0952015 ,\n",
              "        76.63638436, 57.35978082, 67.0188326 ],\n",
              "       [75.27323696, 85.72097215, 75.95177461, 63.84246998, 68.65501285,\n",
              "        82.19807589, 63.1645736 , 74.25401762],\n",
              "       [65.08917716, 75.05829137, 66.55338806, 54.90833702, 59.27216636,\n",
              "        72.40702479, 54.71300043, 64.92737866],\n",
              "       [76.34052027, 88.35236929, 77.71928524, 66.4190557 , 69.13670906,\n",
              "        85.98585042, 64.8951882 , 77.17240389],\n",
              "       [80.01384585, 91.92941004, 81.42600111, 68.34606978, 71.82436373,\n",
              "        90.37735632, 67.24314609, 79.23905718],\n",
              "       [76.10937663, 87.78613686, 77.50006334, 64.94875825, 68.43837295,\n",
              "        85.69739044, 64.29445969, 75.7486136 ],\n",
              "       [67.29342758, 77.10424432, 68.91101489, 56.35764285, 60.92746652,\n",
              "        75.49638367, 57.18289948, 66.43331798],\n",
              "       [78.8590189 , 89.78900587, 79.45379401, 66.85072901, 70.77615628,\n",
              "        87.97546892, 66.39147992, 78.64231241],\n",
              "       [78.44294837, 89.4233699 , 80.1829097 , 65.60950939, 70.86513109,\n",
              "        88.55307763, 66.04206152, 77.28243617],\n",
              "       [69.94417183, 80.34099449, 72.01711697, 59.46749294, 63.56772158,\n",
              "        79.9128547 , 59.25847243, 69.69502487],\n",
              "       [71.00843273, 81.87297446, 72.15185471, 61.20230014, 63.80649329,\n",
              "        80.42154303, 60.2009721 , 71.02267043],\n",
              "       [71.73306545, 81.77709296, 73.22754832, 61.0783532 , 64.92659955,\n",
              "        80.47996531, 60.50329015, 70.55147526],\n",
              "       [64.16454071, 73.47205564, 64.98149657, 54.32005498, 59.10333958,\n",
              "        71.44816703, 54.63762736, 63.45006237],\n",
              "       [62.82199052, 73.52906209, 64.3188679 , 54.32158396, 57.18210506,\n",
              "        70.6250172 , 52.86951174, 63.0453197 ],\n",
              "       [57.48166763, 65.29309725, 58.59326218, 48.28262388, 52.43907505,\n",
              "        64.07542893, 48.4752283 , 55.78600007],\n",
              "       [69.01254082, 78.23210509, 70.53386964, 58.5629378 , 62.17344681,\n",
              "        78.25288348, 58.29783256, 68.08704414],\n",
              "       [50.65392291, 58.14713793, 52.10173792, 42.61255843, 46.54141705,\n",
              "        57.12070187, 42.65869546, 50.07916223],\n",
              "       [60.34716383, 68.97871559, 61.29961065, 50.83285688, 53.18993175,\n",
              "        67.30437691, 49.03216322, 58.80861176],\n",
              "       [57.28223444, 66.46728657, 59.26541466, 49.016208  , 52.52878738,\n",
              "        64.88165534, 48.49971966, 57.29704976],\n",
              "       [69.27798975, 78.58211372, 69.91470119, 59.11996437, 62.96698812,\n",
              "        75.24236458, 57.68826334, 68.14150413],\n",
              "       [52.66094421, 59.9302392 , 53.69759151, 44.15778529, 47.30322968,\n",
              "        58.95351133, 44.28294664, 51.65406097],\n",
              "       [74.43538384, 85.25255522, 75.33138554, 63.32148905, 68.26193345,\n",
              "        82.24448952, 63.27696847, 73.72183425],\n",
              "       [60.36961922, 69.03104195, 61.10053745, 50.95320122, 55.3616194 ,\n",
              "        66.40152373, 51.36048145, 59.6749479 ],\n",
              "       [56.03533211, 65.76368415, 56.98926442, 48.41386262, 51.19687025,\n",
              "        62.77970628, 47.54159809, 56.67636631],\n",
              "       [69.80629931, 79.27495127, 70.62363262, 58.88366951, 64.05132397,\n",
              "        78.19565563, 60.17168609, 69.50817457],\n",
              "       [55.2024717 , 62.54234117, 55.78320102, 46.19401438, 49.72512804,\n",
              "        61.55392395, 46.48230674, 54.2100325 ],\n",
              "       [61.97727165, 69.81633684, 62.09967514, 51.79166598, 56.37321675,\n",
              "        68.79644721, 52.76273143, 61.16851651],\n",
              "       [64.11235191, 74.83370291, 64.92911045, 55.0676967 , 58.68791424,\n",
              "        71.96717434, 55.30312527, 64.58972961],\n",
              "       [68.24547114, 79.39638125, 69.63257274, 59.32926917, 62.83613943,\n",
              "        77.02538454, 58.73326988, 69.12330287],\n",
              "       [76.4348368 , 87.77966395, 77.54416349, 64.85872511, 68.90786742,\n",
              "        85.64909985, 64.51702663, 75.96599035],\n",
              "       [71.12519606, 82.49486861, 72.64539355, 61.3113992 , 64.80949479,\n",
              "        79.64707753, 60.49041174, 71.83764924],\n",
              "       [65.68342378, 74.7095249 , 67.66323459, 54.89702491, 60.45486016,\n",
              "        73.24325184, 55.80272126, 64.24536339],\n",
              "       [62.70900482, 71.96685325, 63.70751131, 53.35625234, 56.55864129,\n",
              "        69.72090964, 52.82250301, 62.34753176],\n",
              "       [68.72044398, 79.78120016, 69.50834949, 59.52006464, 63.20129631,\n",
              "        76.84727041, 59.03066616, 69.18908898],\n",
              "       [63.72851564, 74.75941552, 65.6620983 , 54.20127029, 58.86705119,\n",
              "        72.69537551, 54.86899936, 63.82264646],\n",
              "       [69.04542686, 78.53924626, 70.06070731, 57.95757383, 62.84497987,\n",
              "        75.96855961, 57.98906536, 67.67249101],\n",
              "       [62.86642074, 72.52023128, 63.88855625, 53.9211665 , 57.4293955 ,\n",
              "        70.29266038, 53.81973144, 62.88526488],\n",
              "       [75.56425117, 86.18375687, 76.6347055 , 64.36933851, 68.51010521,\n",
              "        84.29400689, 63.91514531, 74.80003335],\n",
              "       [72.90828946, 84.320063  , 75.02024276, 61.20730106, 66.30838767,\n",
              "        81.66917926, 60.78728578, 71.70862366],\n",
              "       [79.66341781, 91.33631728, 81.28797983, 67.84161184, 72.06690488,\n",
              "        88.16603663, 66.68427366, 79.27740824],\n",
              "       [63.51047785, 74.52301909, 65.04999969, 53.92424169, 59.31192367,\n",
              "        70.87188861, 54.88852652, 63.43745884],\n",
              "       [73.31273345, 84.19213148, 74.24584007, 63.41767898, 65.28308608,\n",
              "        81.76041778, 60.85222767, 72.97706154],\n",
              "       [67.2485175 , 80.21954244, 69.27117781, 58.9251697 , 62.73186089,\n",
              "        76.36557604, 58.20437698, 68.79542437],\n",
              "       [66.92000598, 76.22762462, 67.59459657, 56.23794881, 59.85683922,\n",
              "        74.29124126, 55.45919991, 65.31136886],\n",
              "       [73.21808394, 83.90407726, 75.55494423, 61.08841133, 66.11047504,\n",
              "        81.71784889, 60.68927358, 71.10961765],\n",
              "       [56.85026498, 65.41179848, 57.55519642, 48.52787733, 52.86863862,\n",
              "        63.15567916, 48.71180987, 56.53668696],\n",
              "       [70.51313242, 79.21965092, 70.89001138, 59.90716257, 63.73595878,\n",
              "        76.50282926, 58.68549133, 69.21305623],\n",
              "       [65.98584489, 75.42928965, 67.38122133, 55.19307765, 59.07044414,\n",
              "        73.25686882, 54.0230042 , 64.00280302],\n",
              "       [59.48087022, 69.73060336, 59.51363207, 51.84886823, 54.14033229,\n",
              "        66.30583525, 50.63923776, 60.60026144],\n",
              "       [72.98455004, 83.17653422, 75.42880649, 62.09959036, 66.93845805,\n",
              "        80.83094003, 60.85196585, 71.79974884],\n",
              "       [76.66783613, 89.55902385, 78.74370891, 65.57487201, 70.05902015,\n",
              "        87.50057951, 65.62394142, 76.94660345],\n",
              "       [71.90524914, 84.31821967, 72.6655721 , 62.34040905, 66.24343528,\n",
              "        81.68915616, 62.50128567, 73.01615213],\n",
              "       [62.89372192, 72.9073479 , 64.00219066, 53.55031626, 57.99580529,\n",
              "        71.0744225 , 54.3884178 , 63.22403258],\n",
              "       [74.87685404, 85.78924186, 76.97734531, 63.21940356, 67.83608283,\n",
              "        83.34016325, 62.63188182, 73.62783694],\n",
              "       [64.66907599, 73.62645489, 65.65550639, 54.99673844, 58.19780443,\n",
              "        71.5325941 , 53.83614412, 63.47052259],\n",
              "       [67.41632602, 79.88319256, 70.15715247, 58.50696617, 61.85515931,\n",
              "        76.86784384, 57.48794311, 69.01311481],\n",
              "       [60.61466085, 69.55457423, 61.51761169, 51.52862602, 55.21100924,\n",
              "        68.15289331, 51.538601  , 60.2764876 ],\n",
              "       [67.57428068, 76.98523049, 68.07270511, 58.06482962, 59.69762874,\n",
              "        74.62830856, 55.83738592, 66.7506381 ],\n",
              "       [75.85194226, 88.30544741, 77.02435665, 65.95652369, 69.89568651,\n",
              "        85.36438962, 64.96958112, 76.71622839],\n",
              "       [68.02932992, 79.1497741 , 69.69359312, 58.11226283, 63.16675729,\n",
              "        76.80674584, 58.7516945 , 68.84038578],\n",
              "       [73.66833511, 84.53091648, 75.18646409, 62.27948423, 66.18761388,\n",
              "        82.35295676, 61.51497509, 72.72554969]])"
            ]
          },
          "metadata": {},
          "execution_count": 68
        }
      ]
    },
    {
      "cell_type": "markdown",
      "source": [
        "## 텐서 크기 변환"
      ],
      "metadata": {
        "id": "fBOqFYclD4tA"
      }
    },
    {
      "cell_type": "code",
      "source": [
        "train_images = train_images.reshape((60000, 28 * 28))"
      ],
      "metadata": {
        "id": "xZyuT3xSD6mL"
      },
      "execution_count": 69,
      "outputs": []
    },
    {
      "cell_type": "code",
      "source": [
        "x = np.array([[0., 1.],\n",
        "             [2., 3.],\n",
        "             [4., 5.]])\n",
        "x.shape"
      ],
      "metadata": {
        "colab": {
          "base_uri": "https://localhost:8080/"
        },
        "id": "Vsvcja1sD-r6",
        "outputId": "53f42b69-d821-421c-eb70-db0538cb6e4d"
      },
      "execution_count": 70,
      "outputs": [
        {
          "output_type": "execute_result",
          "data": {
            "text/plain": [
              "(3, 2)"
            ]
          },
          "metadata": {},
          "execution_count": 70
        }
      ]
    },
    {
      "cell_type": "code",
      "source": [
        "x.reshape((2, 3))"
      ],
      "metadata": {
        "colab": {
          "base_uri": "https://localhost:8080/"
        },
        "id": "Y_2gcenMEKbk",
        "outputId": "a9e6f942-1080-4c6b-b0da-befb70f58fdf"
      },
      "execution_count": 73,
      "outputs": [
        {
          "output_type": "execute_result",
          "data": {
            "text/plain": [
              "array([[0., 1., 2.],\n",
              "       [3., 4., 5.]])"
            ]
          },
          "metadata": {},
          "execution_count": 73
        }
      ]
    },
    {
      "cell_type": "code",
      "source": [
        "x = np.zeros((300, 20))\n",
        "x = np.transpose(x)\n",
        "x.shape"
      ],
      "metadata": {
        "colab": {
          "base_uri": "https://localhost:8080/"
        },
        "id": "38KE9vTZEdEp",
        "outputId": "35f43da0-81f8-4286-fbde-e73b8488e075"
      },
      "execution_count": 77,
      "outputs": [
        {
          "output_type": "execute_result",
          "data": {
            "text/plain": [
              "(20, 300)"
            ]
          },
          "metadata": {},
          "execution_count": 77
        }
      ]
    }
  ]
}