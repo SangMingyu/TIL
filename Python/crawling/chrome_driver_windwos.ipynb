{
 "cells": [
  {
   "cell_type": "markdown",
   "id": "ce56ee62-2684-4438-81eb-260317693288",
   "metadata": {},
   "source": [
    "# 크롬드라이버 설정 방법 - Windows (2023 Aug)"
   ]
  },
  {
   "cell_type": "markdown",
   "id": "a706960f-a055-4145-acf5-ff99e53e6a1f",
   "metadata": {},
   "source": [
    "## 개요\n",
    "- `selenium 4.10` 버전에서 크롬드라이버 설정하는 방법에 대해 기술하고자 한다. "
   ]
  },
  {
   "cell_type": "markdown",
   "id": "9c1f5ab4-3879-4a99-becf-bdd93e18ce3a",
   "metadata": {},
   "source": [
    "## selenium 버전 확인\n",
    "- 먼저 selenium 버전은 아래와 같다.\n",
    "- 설치 방법\n",
    "```python\n",
    "pip install selenium\n",
    "\n",
    "```"
   ]
  },
  {
   "cell_type": "code",
   "execution_count": 7,
   "id": "640ce619-aa46-4bc2-ae9d-3a9c8cda7441",
   "metadata": {},
   "outputs": [
    {
     "name": "stdout",
     "output_type": "stream",
     "text": [
      "4.11.2\n"
     ]
    }
   ],
   "source": [
    "import selenium\n",
    "print(selenium.__version__)"
   ]
  },
  {
   "cell_type": "markdown",
   "id": "72fb9a18-2105-4e89-834f-526f05b79b34",
   "metadata": {},
   "source": [
    "## 크롬드라이버 수동 설정\n",
    "- 특별한 경로에 chromedriver.exe 파일을 설치한다. "
   ]
  },
  {
   "cell_type": "code",
   "execution_count": 8,
   "id": "2babf552-55f5-47f5-b7b0-ece5f4310ca0",
   "metadata": {},
   "outputs": [
    {
     "name": "stdout",
     "output_type": "stream",
     "text": [
      "driver/\n",
      "    chromedriver.exe\n",
      "    LICENSE.chromedriver\n"
     ]
    }
   ],
   "source": [
    "import os\n",
    "\n",
    "def list_files(startpath):\n",
    "    for root, dirs, files in os.walk(startpath):\n",
    "        level = root.replace(startpath, '').count(os.sep)\n",
    "        indent = ' ' * 4 * (level)\n",
    "        print('{}{}/'.format(indent, os.path.basename(root)))\n",
    "        subindent = ' ' * 4 * (level + 1)\n",
    "        for f in files:\n",
    "            print('{}{}'.format(subindent, f))\n",
    "\n",
    "list_files(\"driver\")"
   ]
  },
  {
   "cell_type": "markdown",
   "id": "0f413b46-0258-402f-8bc4-03ee57ecc545",
   "metadata": {},
   "source": [
    "- 크롬드라이버 경로를 지정 후 아래 코드를 실행한다. "
   ]
  },
  {
   "cell_type": "code",
   "execution_count": 2,
   "id": "a6ed69d6-4ff0-420f-beca-c76e22e038eb",
   "metadata": {},
   "outputs": [],
   "source": [
    "from selenium import webdriver\n",
    "from selenium.webdriver.chrome.service import Service\n",
    "\n",
    "CHROME_DRIVER_PATH = './driver/chromedriver.exe'\n",
    "service = Service(executable_path=CHROME_DRIVER_PATH)\n",
    "options = webdriver.ChromeOptions()\n",
    "driver = webdriver.Chrome(service=service, options=options)\n",
    "\n",
    "driver.get('https://www.naver.com/')"
   ]
  },
  {
   "cell_type": "markdown",
   "id": "f73d42e2-e2ae-49e5-a299-2929e68a3523",
   "metadata": {},
   "source": [
    "- 드라이버를 종료하고 싶다면 아래와 같이 코드를 실행한다. "
   ]
  },
  {
   "cell_type": "code",
   "execution_count": 9,
   "id": "dba5815a-2d55-466e-95d7-2b349996f320",
   "metadata": {},
   "outputs": [],
   "source": [
    "driver.quit()"
   ]
  },
  {
   "cell_type": "markdown",
   "id": "df178b53-b1a6-4f54-a7fc-9940021e3973",
   "metadata": {},
   "source": [
    "- 위 방식은 하나의 치명적인 단점이 존재한다. 위의 코드는 매우 잘 작동하지만 Chrome이 새 버전으로 업그레이드될 때마다 ChromeDriver를 다시 다운로드해야 한다.\n",
    "- 매우 불편하다. "
   ]
  },
  {
   "cell_type": "markdown",
   "id": "196b42c3-56e6-486e-bd34-4134a8325775",
   "metadata": {},
   "source": [
    "## webdriver-manager 라이브러리\n",
    "- 이 부분을 해결하고자 라이브러리가 나왔다.\n",
    "```python\n",
    "pip install webdriver-manager\n",
    "\n",
    "``\n",
    "\n",
    "- 코드는 간단하다. `"
   ]
  },
  {
   "cell_type": "code",
   "execution_count": 14,
   "id": "25b5928e-5263-43e1-acc6-4f51f777941c",
   "metadata": {},
   "outputs": [],
   "source": [
    "from selenium import webdriver\n",
    "from selenium.webdriver.chrome.service import Service as ChromeService\n",
    "from webdriver_manager.chrome import ChromeDriverManager\n",
    "\n",
    "driver = webdriver.Chrome(service=ChromeService(ChromeDriverManager().install()))\n",
    "driver.get('https://www.naver.com/')"
   ]
  },
  {
   "cell_type": "code",
   "execution_count": 15,
   "id": "993dd5f6-88f1-40ad-9886-9d8f4521e1e3",
   "metadata": {},
   "outputs": [],
   "source": [
    "driver.quit()"
   ]
  },
  {
   "cell_type": "code",
   "execution_count": null,
   "id": "79ba57de-b9be-4a61-8a6b-90c9c7c7a26b",
   "metadata": {},
   "outputs": [],
   "source": [
    "## 구글 이미지 다운로드"
   ]
  },
  {
   "cell_type": "code",
   "execution_count": 19,
   "id": "fc62af30-cd35-4505-991f-6a6519d508da",
   "metadata": {},
   "outputs": [
    {
     "name": "stdout",
     "output_type": "stream",
     "text": [
      " 찾은 이미지 개수: 48\n"
     ]
    }
   ],
   "source": [
    "from selenium import webdriver\n",
    "from selenium.webdriver.chrome.service import Service\n",
    "from selenium.webdriver.common.keys import Keys\n",
    "from selenium.webdriver.common.by import By\n",
    "import time\n",
    "\n",
    "CHROME_DRIVER_PATH = './driver/chromedriver.exe'\n",
    "service = Service(executable_path=CHROME_DRIVER_PATH)\n",
    "options = webdriver.ChromeOptions()\n",
    "driver = webdriver.Chrome(service=service, options=options)\n",
    "\n",
    "URL='https://www.google.co.kr/imghp'\n",
    "driver.get(url=URL)\n",
    "\n",
    "elem = driver.find_element(By.CSS_SELECTOR, \"body > div.L3eUgb > div.o3j99.ikrT4e.om7nvf > form > div:nth-child(1) > div.A8SBwf > div.RNNXgb > div > div.a4bIc > textarea.gLFyf\")\n",
    "elem.send_keys(\"보라카이\")\n",
    "elem.send_keys(Keys.RETURN)\n",
    "\n",
    "elem = driver.find_element(By. TAG_NAME, \"body\")\n",
    "for i in range(60):\n",
    "    elem.send_keys(Keys.PAGE_DOWN)\n",
    "    time.sleep(0.1)\n",
    "\n",
    "try: \n",
    "    driver.find_element(By.CSS_SELECTOR,\"#islmp > div > div > div > div.gBPM8 > div.qvfT1 > div.YstHxe > input\").click()\n",
    "    for i in range(60):\n",
    "        elem.send_keys(Keys.PAGE_DOWN)\n",
    "        time.sleep(0.1)\n",
    "\n",
    "except:\n",
    "    pass\n",
    "\n",
    "links=[] \n",
    "images = driver.find_elements(By.CSS_SELECTOR, \"#islrg > div.islrc > div > a.wXeWr.islib.nfEiy > div.bRMDJf.islir > img\")\n",
    "\n",
    "for image in images:\n",
    "    if image.get_attribute('src') is not None:\n",
    "        links.append(image.get_attribute('src'))\n",
    "        \n",
    "print(' 찾은 이미지 개수:',len(links))"
   ]
  },
  {
   "cell_type": "code",
   "execution_count": 20,
   "id": "ecc2e85c-983b-4b31-b0ae-ee47768c5aa5",
   "metadata": {},
   "outputs": [
    {
     "name": "stdout",
     "output_type": "stream",
     "text": [
      "다운로드 완료하였습니다.\n"
     ]
    }
   ],
   "source": [
    "import urllib.request\n",
    "\n",
    "for k, i in enumerate(links):\n",
    "    url = i\n",
    "    urllib.request.urlretrieve(url, \".\\\\사진다운로드\\\\\"+str(k)+\".jpg\")\n",
    "\n",
    "print('다운로드 완료하였습니다.')"
   ]
  },
  {
   "cell_type": "code",
   "execution_count": 21,
   "id": "11c708b6-d059-4a54-834d-5396e6cf63e4",
   "metadata": {},
   "outputs": [],
   "source": [
    "driver.quit()"
   ]
  },
  {
   "cell_type": "code",
   "execution_count": 22,
   "id": "1646a550-05de-49b6-8ef4-af5706ff855c",
   "metadata": {},
   "outputs": [],
   "source": [
    "## 검색어 추출"
   ]
  },
  {
   "cell_type": "code",
   "execution_count": 31,
   "id": "356f5bf6-ee55-42b6-bfd9-353cf0179bdc",
   "metadata": {},
   "outputs": [
    {
     "data": {
      "text/plain": [
       "['잼버리',\n",
       " '살인 예고 글',\n",
       " '태풍 카눈 북상에',\n",
       " '류현진',\n",
       " '세계 고양이의 날',\n",
       " '파두',\n",
       " '경상수지 58.7억달러',\n",
       " '최원종',\n",
       " '입추',\n",
       " '초전도체']"
      ]
     },
     "execution_count": 31,
     "metadata": {},
     "output_type": "execute_result"
    }
   ],
   "source": [
    "from selenium import webdriver\n",
    "from selenium.webdriver.chrome.service import Service\n",
    "from selenium.webdriver.common.keys import Keys\n",
    "from selenium.webdriver.common.by import By\n",
    "import time\n",
    "\n",
    "CHROME_DRIVER_PATH = './driver/chromedriver.exe'\n",
    "service = Service(executable_path=CHROME_DRIVER_PATH)\n",
    "options = webdriver.ChromeOptions()\n",
    "driver = webdriver.Chrome(service=service, options=options)\n",
    "\n",
    "URL='https://signal.bz/news'\n",
    "driver.get(url=URL)\n",
    "results = driver.find_elements(By.CSS_SELECTOR, \"#app > div > main > div > section > div > section > section:nth-child(2) > div:nth-child(2) > div > div > div > a > span.rank-text\")\n",
    "results\n",
    "\n",
    "keyword_list = []\n",
    "for keyword in results:\n",
    "    keyword_list.append(keyword.text)\n",
    "keyword_list"
   ]
  },
  {
   "cell_type": "code",
   "execution_count": 32,
   "id": "12510e6d-d245-4a0d-b2e4-20883715e46a",
   "metadata": {},
   "outputs": [],
   "source": [
    "driver.quit()"
   ]
  },
  {
   "cell_type": "code",
   "execution_count": 46,
   "id": "4b5c7f18-8cf3-4c74-90b1-4dfabc339353",
   "metadata": {},
   "outputs": [
    {
     "name": "stdout",
     "output_type": "stream",
     "text": [
      "['6_잼버리 대원들', '7_서울대공원서 시베리아호랑이 파악', '8_中 윤동주 폐쇄', '9_입추', '10_신성록', '1_태풍 카눈 북상에', '2_경상수지 두 달', '3_잼버리', '4_류현진 강습 타구', '5_사고 위장 부사관']\n"
     ]
    }
   ],
   "source": [
    "### nate.com\n",
    "\n",
    "from selenium import webdriver\n",
    "from selenium.webdriver.chrome.service import Service\n",
    "from selenium.webdriver.common.keys import Keys\n",
    "from selenium.webdriver.common.by import By\n",
    "import time\n",
    "\n",
    "CHROME_DRIVER_PATH = './driver/chromedriver.exe'\n",
    "service = Service(executable_path=CHROME_DRIVER_PATH)\n",
    "options = webdriver.ChromeOptions()\n",
    "driver = webdriver.Chrome(service=service, options=options)\n",
    "\n",
    "nate_list_1st = []\n",
    "nate_list_2nd = []\n",
    "for i in range(2):\n",
    "    URL='https://www.nate.com'\n",
    "    driver.get(url=URL) \n",
    "    rank_results = driver.find_elements(By.CSS_SELECTOR,'#olLiveIssueKeyword > li > span.num_rank')\n",
    "    nate_results = driver.find_elements(By.CSS_SELECTOR,'#olLiveIssueKeyword > li > a > span.txt_rank')\n",
    "    for rank, keyword in zip(rank_results, nate_results):\n",
    "        if i == 0: # 첫번째 화면\n",
    "            nate_list_1st.append(f'{rank.text}_{keyword.text}')\n",
    "        elif i == 1: # 두번째 화면\n",
    "            nate_list_2nd.append(f'{rank.text}_{keyword.text}')\n",
    "    time.sleep(5)\n",
    "    driver.refresh() # driver 재시동\n",
    "result = nate_list_1st + nate_list_2nd\n",
    "\n",
    "print(result)\n",
    "driver.quit()"
   ]
  },
  {
   "cell_type": "code",
   "execution_count": 50,
   "id": "e180c184-2fe3-49a8-a863-058b64d4d724",
   "metadata": {},
   "outputs": [],
   "source": [
    "driver.quit()"
   ]
  },
  {
   "cell_type": "code",
   "execution_count": 49,
   "id": "442b29c1-58a3-4aea-aa11-d40bb9f52e60",
   "metadata": {},
   "outputs": [
    {
     "name": "stdout",
     "output_type": "stream",
     "text": [
      "[지마켓] LG 코드제로 오브제컬렉션 A9S 무선청소기 AX9874TPE (951,000원/무료)\n",
      "https://www.ppomppu.co.kr/zboard/view.php?id=ppomppu&page=1&divpage=80&no=477025\n",
      "[11번가]바른생활 아트컬렉션칫솔 36개 (12,500원/무료배송)\n",
      "https://www.ppomppu.co.kr/zboard/view.php?id=ppomppu&page=1&divpage=80&no=477024\n",
      "[지마켓] 송탄 치즈부대찌개 500g x 3팩 + 라면사리 3개 (13,280원/무료) 카드할인시 11,960원\n",
      "https://www.ppomppu.co.kr/zboard/view.php?id=ppomppu&page=1&divpage=80&no=477023\n",
      "[ssg] 슈퍼플라워 SF-850F14XG LEADEX VII GOLD ATX 3.0 ( 172000 / 3000 )\n",
      "https://www.ppomppu.co.kr/zboard/view.php?id=ppomppu&page=1&divpage=80&no=477022\n",
      "[LF몰]베른 VST 플랫 테이블 L 슬림 폴딩 접이식 (144,490원/무료)\n",
      "https://www.ppomppu.co.kr/zboard/view.php?id=ppomppu&page=1&divpage=80&no=477021\n",
      "[G마켓]1+1 아쿠아 드라이 방수백 5L 비치 물놀이 수영 가방 (+사은품 휴대폰방수팩2개) (12,780원/무배)\n",
      "https://www.ppomppu.co.kr/zboard/view.php?id=ppomppu&page=1&divpage=80&no=477020\n",
      "[KFC 매장] 말복 버켓 블랙라벨치킨 8+치즈볼 3개 (16900/수령시 무료)\n",
      "https://www.ppomppu.co.kr/zboard/view.php?id=ppomppu&page=1&divpage=80&no=477019\n",
      "[옥션] 삼성 비스포크 무풍 에어컨 윈도우핏 화이트(AW06C7155WWAZ) (759,430/무)\n",
      "https://www.ppomppu.co.kr/zboard/view.php?id=ppomppu&page=1&divpage=80&no=477018\n",
      "[11번가] (1,299,600원) 삼성전자 비스포크 냉장고 RF84C906B4W 875리터 매트 멜로우 화이트\n",
      "https://www.ppomppu.co.kr/zboard/view.php?id=ppomppu&page=1&divpage=80&no=477017\n",
      "[네이버] 비비고 사골곰탕 500g 18개(12,840원/무료)\n",
      "https://www.ppomppu.co.kr/zboard/view.php?id=ppomppu&page=1&divpage=80&no=477016\n",
      "[네이버] 테팔 원픽 냄비팬 22cm (30,800원/무료) 쿠폰 적용시 25,460원\n",
      "https://www.ppomppu.co.kr/zboard/view.php?id=ppomppu&page=1&divpage=80&no=477015\n",
      "[티몬] 정다운 허브/마늘 훈제오리 200g 8팩 (28,400원/무배)\n",
      "https://www.ppomppu.co.kr/zboard/view.php?id=ppomppu&page=1&divpage=80&no=477014\n",
      "[지마켓] 하기스 매직썸머 팬티 4-6단계 6팩(113,850원/무배)\n",
      "https://www.ppomppu.co.kr/zboard/view.php?id=ppomppu&page=1&divpage=80&no=477013\n",
      "[11번가] 다이비프로 풀페이스 스노쿨링마스크 (19,900/무료)\n",
      "https://www.ppomppu.co.kr/zboard/view.php?id=ppomppu&page=1&divpage=80&no=477012\n",
      "[롯데ON] 한우 1+ 차돌박이 냉장 300g 1팩 (9,560원, 배송비 4,000원)\n",
      "https://www.ppomppu.co.kr/zboard/view.php?id=ppomppu&page=1&divpage=80&no=477011\n",
      "[쿠팡] 크리넥스 핸드타올 총 2000매 + 전용용기 1세트 (17820/무료)\n",
      "https://www.ppomppu.co.kr/zboard/view.php?id=ppomppu&page=1&divpage=80&no=477009\n",
      "[하이버] 팔꾸이 팔당 오징어 볶음 470g (9,900원/무료)\n",
      "https://www.ppomppu.co.kr/zboard/view.php?id=ppomppu&page=1&divpage=80&no=477008\n",
      "[G마켓] 도브 비누 화이트바 135g 12개 (14,030원/무료) 삼성/하나/우리 12,630원\n",
      "https://www.ppomppu.co.kr/zboard/view.php?id=ppomppu&page=1&divpage=80&no=477007\n",
      "[티몬] 스너글 실내건조 무드테라피 섬유유연제 4L+2.6L+견본100m (27,920원/무료)\n",
      "https://www.ppomppu.co.kr/zboard/view.php?id=ppomppu&page=1&divpage=80&no=477006\n",
      "[카카오톡딜] 스팀보이 아이스 냉수 매트 & 냉 온수매트 (55,000원~ / 무료배송)\n",
      "https://www.ppomppu.co.kr/zboard/view.php?id=ppomppu&page=1&divpage=80&no=477005\n",
      "집으로 ON 아이라이킷 입점기념 특가\n",
      "https://www.ppomppu.co.kr/zboard/view.php?id=pmarket&&no=286846\n",
      "위메프 디지털위크 LG시네빔 PF610P 59만원 전제품 할인혜택 역대급 특가 놓치지마세요! 오늘의집 소니XLG시네빔 콜라보혜택\n",
      "https://www.ppomppu.co.kr/zboard/view.php?id=pmarket&&no=286853\n",
      "[G마켓] 갤럭시 Z플립5ㅣZ폴드5 자급제 마지막사전판매 LIVE [최대 3만원 신세계 상품권 + 경품이벤트]\n",
      "https://www.ppomppu.co.kr/zboard/view.php?id=pmarket&&no=286843\n",
      "[위메프] 은나노스텝 1+3 (500+300+300+300)ml 고급다용도 세정제 (7800원/무료)\n",
      "https://www.ppomppu.co.kr/zboard/view.php?id=pmarket&&no=286848\n",
      "[롯데홈쇼핑] LG그램 15인치 노트북 브랜드위크 단독 할인 타임특가 찬스!\n",
      "https://www.ppomppu.co.kr/zboard/view.php?id=pmarket&&no=286851\n",
      "[11번가 LIVE 17:00~18:30] 갤럭시 Z플립5ㅣZ폴드5 자급제 마지막LIVE방송! 파격혜택 (전카드사할인까지)\n",
      "https://www.ppomppu.co.kr/zboard/view.php?id=pmarket&&no=286842\n",
      "오늘의집xLG시네빔 브랜드위크 역대급 할인 쿠폰+카드+사은품 소니콜라보 혜택까지 놓치지마세요!\n",
      "https://www.ppomppu.co.kr/zboard/view.php?id=pmarket&&no=286841\n",
      "[이벤트] 쇼핑포럼 매일 상품 공유 이벤트 2탄, 티몬! (~8/15)\n",
      "https://www.ppomppu.co.kr/zboard/view.php?id=social&no=37708\n",
      "[앵콜창고] 생리대 디어스킨 입오버 5팩 외 인기모음전 순수한면 건강한 제로 라이너 대형 중형 소형 베스트구성 - 깨끗한나라 생리대 입오버 꿀잠보장 (17,900원)\n",
      "https://www.ppomppu.co.kr/hotdeal/?no=21655375\n",
      "에어프라이어 핫딜 없을까요?\n",
      "https://www.ppomppu.co.kr/zboard/view.php?id=social&no=37787\n",
      "[옥션] 훈제오리 180g 6팩+ 1팩 무료증정 배송비무료\n",
      "https://www.ppomppu.co.kr/zboard/view.php?id=social&no=37786\n",
      "펩시제로슈거 무라벨 라임 300ml 20펫 (12,720 / 무배)\n",
      "https://www.ppomppu.co.kr/zboard/view.php?id=social&no=37785\n"
     ]
    }
   ],
   "source": [
    "from selenium import webdriver\n",
    "from selenium.webdriver.chrome.service import Service\n",
    "from selenium.webdriver.common.keys import Keys\n",
    "from selenium.webdriver.common.by import By\n",
    "import time\n",
    "\n",
    "CHROME_DRIVER_PATH = './driver/chromedriver.exe'\n",
    "service = Service(executable_path=CHROME_DRIVER_PATH)\n",
    "options = webdriver.ChromeOptions()\n",
    "driver = webdriver.Chrome(service=service, options=options)\n",
    "\n",
    "URL= 'https://www.ppomppu.co.kr/zboard/zboard.php?id=ppomppu'\n",
    "driver.get(url=URL)\n",
    "\n",
    "titles = driver.find_elements(By.CSS_SELECTOR, '#revolution_main_table > tbody > tr > td:nth-child(3) > table > tbody > tr > td:nth-child(2) > div > a > font')\n",
    "urls = driver.find_elements(By.CSS_SELECTOR, '#revolution_main_table > tbody > tr > td:nth-child(3) > table > tbody > tr > td:nth-child(2) > div > a')\n",
    "\n",
    "title_lists = []\n",
    "url_lists = []\n",
    "for i in range(len(titles)):\n",
    "    print(titles[i].text)\n",
    "    title_lists.append(titles[i].text)\n",
    "    print(urls[i].get_attribute('href'))\n",
    "    url_lists.append(urls[i].get_attribute('href'))"
   ]
  },
  {
   "cell_type": "code",
   "execution_count": 48,
   "id": "20370c0f-67e3-4601-b0ac-f167eefc4e59",
   "metadata": {},
   "outputs": [
    {
     "name": "stdout",
     "output_type": "stream",
     "text": [
      "Collecting scrapy\n",
      "  Obtaining dependency information for scrapy from https://files.pythonhosted.org/packages/9e/ce/c9d2b543b1ccedb59102ca3523752245b3e5bd2157ca6bd491b86a54050d/Scrapy-2.10.0-py2.py3-none-any.whl.metadata\n",
      "  Downloading Scrapy-2.10.0-py2.py3-none-any.whl.metadata (5.3 kB)\n",
      "Collecting Twisted>=18.9.0 (from scrapy)\n",
      "  Downloading Twisted-22.10.0-py3-none-any.whl (3.1 MB)\n",
      "     ---------------------------------------- 0.0/3.1 MB ? eta -:--:--\n",
      "     ------------ --------------------------- 0.9/3.1 MB 19.8 MB/s eta 0:00:01\n",
      "     ------------------------ --------------- 1.9/3.1 MB 20.3 MB/s eta 0:00:01\n",
      "     ------------------------------------- -- 2.9/3.1 MB 20.7 MB/s eta 0:00:01\n",
      "     ---------------------------------------- 3.1/3.1 MB 18.1 MB/s eta 0:00:00\n",
      "Collecting cryptography>=36.0.0 (from scrapy)\n",
      "  Obtaining dependency information for cryptography>=36.0.0 from https://files.pythonhosted.org/packages/30/56/5f4eee57ccd577c261b516bfcbe17492838e2bc4e2e92ea93bbb57666fbd/cryptography-41.0.3-cp37-abi3-win_amd64.whl.metadata\n",
      "  Downloading cryptography-41.0.3-cp37-abi3-win_amd64.whl.metadata (5.3 kB)\n",
      "Collecting cssselect>=0.9.1 (from scrapy)\n",
      "  Downloading cssselect-1.2.0-py2.py3-none-any.whl (18 kB)\n",
      "Collecting itemloaders>=1.0.1 (from scrapy)\n",
      "  Downloading itemloaders-1.1.0-py3-none-any.whl (11 kB)\n",
      "Collecting parsel>=1.5.0 (from scrapy)\n",
      "  Downloading parsel-1.8.1-py2.py3-none-any.whl (17 kB)\n",
      "Collecting pyOpenSSL>=21.0.0 (from scrapy)\n",
      "  Obtaining dependency information for pyOpenSSL>=21.0.0 from https://files.pythonhosted.org/packages/f0/e2/f8b4f1c67933a4907e52228241f4bd52169f3196b70af04403b29c63238a/pyOpenSSL-23.2.0-py3-none-any.whl.metadata\n",
      "  Downloading pyOpenSSL-23.2.0-py3-none-any.whl.metadata (10 kB)\n",
      "Collecting queuelib>=1.4.2 (from scrapy)\n",
      "  Downloading queuelib-1.6.2-py2.py3-none-any.whl (13 kB)\n",
      "Collecting service-identity>=18.1.0 (from scrapy)\n",
      "  Obtaining dependency information for service-identity>=18.1.0 from https://files.pythonhosted.org/packages/0c/42/bf07f277b45da6e350df3314804aa2b5411e0938d3b78b4f17da2e1302c2/service_identity-23.1.0-py3-none-any.whl.metadata\n",
      "  Downloading service_identity-23.1.0-py3-none-any.whl.metadata (5.5 kB)\n",
      "Collecting w3lib>=1.17.0 (from scrapy)\n",
      "  Obtaining dependency information for w3lib>=1.17.0 from https://files.pythonhosted.org/packages/82/e2/dcf8573d7153194eb673347cea1f9bbdb2a8e61030740fb6f50e4234a00b/w3lib-2.1.2-py3-none-any.whl.metadata\n",
      "  Downloading w3lib-2.1.2-py3-none-any.whl.metadata (1.1 kB)\n",
      "Collecting zope.interface>=5.1.0 (from scrapy)\n",
      "  Downloading zope.interface-6.0-cp39-cp39-win_amd64.whl (204 kB)\n",
      "     ---------------------------------------- 0.0/204.1 kB ? eta -:--:--\n",
      "     ------------------------------------- 204.1/204.1 kB 12.1 MB/s eta 0:00:00\n",
      "Collecting protego>=0.1.15 (from scrapy)\n",
      "  Downloading Protego-0.2.1-py2.py3-none-any.whl (8.2 kB)\n",
      "Collecting itemadapter>=0.1.0 (from scrapy)\n",
      "  Downloading itemadapter-0.8.0-py3-none-any.whl (11 kB)\n",
      "Requirement already satisfied: setuptools in c:\\users\\system999\\til\\venv\\lib\\site-packages (from scrapy) (68.0.0)\n",
      "Requirement already satisfied: packaging in c:\\users\\system999\\til\\venv\\lib\\site-packages (from scrapy) (23.1)\n",
      "Collecting tldextract (from scrapy)\n",
      "  Obtaining dependency information for tldextract from https://files.pythonhosted.org/packages/7e/83/8ab4b0505086a92bda25d81b39cfbfc4e90f432a3dd7b0d2725579e7998a/tldextract-3.4.4-py3-none-any.whl.metadata\n",
      "  Downloading tldextract-3.4.4-py3-none-any.whl.metadata (2.3 kB)\n",
      "Requirement already satisfied: lxml>=4.4.1 in c:\\users\\system999\\til\\venv\\lib\\site-packages (from scrapy) (4.9.3)\n",
      "Collecting PyDispatcher>=2.0.5 (from scrapy)\n",
      "  Downloading PyDispatcher-2.0.7-py3-none-any.whl (12 kB)\n",
      "Requirement already satisfied: cffi>=1.12 in c:\\users\\system999\\til\\venv\\lib\\site-packages (from cryptography>=36.0.0->scrapy) (1.15.1)\n",
      "Collecting jmespath>=0.9.5 (from itemloaders>=1.0.1->scrapy)\n",
      "  Downloading jmespath-1.0.1-py3-none-any.whl (20 kB)\n",
      "Requirement already satisfied: six in c:\\users\\system999\\til\\venv\\lib\\site-packages (from protego>=0.1.15->scrapy) (1.16.0)\n",
      "Requirement already satisfied: attrs>=19.1.0 in c:\\users\\system999\\til\\venv\\lib\\site-packages (from service-identity>=18.1.0->scrapy) (23.1.0)\n",
      "Collecting pyasn1 (from service-identity>=18.1.0->scrapy)\n",
      "  Downloading pyasn1-0.5.0-py2.py3-none-any.whl (83 kB)\n",
      "     ---------------------------------------- 0.0/83.9 kB ? eta -:--:--\n",
      "     ---------------------------------------- 83.9/83.9 kB 4.9 MB/s eta 0:00:00\n",
      "Collecting pyasn1-modules (from service-identity>=18.1.0->scrapy)\n",
      "  Downloading pyasn1_modules-0.3.0-py2.py3-none-any.whl (181 kB)\n",
      "     ---------------------------------------- 0.0/181.3 kB ? eta -:--:--\n",
      "     ------------------------------------- 181.3/181.3 kB 10.7 MB/s eta 0:00:00\n",
      "Collecting constantly>=15.1 (from Twisted>=18.9.0->scrapy)\n",
      "  Downloading constantly-15.1.0-py2.py3-none-any.whl (7.9 kB)\n",
      "Collecting incremental>=21.3.0 (from Twisted>=18.9.0->scrapy)\n",
      "  Downloading incremental-22.10.0-py2.py3-none-any.whl (16 kB)\n",
      "Collecting Automat>=0.8.0 (from Twisted>=18.9.0->scrapy)\n",
      "  Downloading Automat-22.10.0-py2.py3-none-any.whl (26 kB)\n",
      "Collecting hyperlink>=17.1.1 (from Twisted>=18.9.0->scrapy)\n",
      "  Downloading hyperlink-21.0.0-py2.py3-none-any.whl (74 kB)\n",
      "     ---------------------------------------- 0.0/74.6 kB ? eta -:--:--\n",
      "     ---------------------------------------- 74.6/74.6 kB ? eta 0:00:00\n",
      "Requirement already satisfied: typing-extensions>=3.6.5 in c:\\users\\system999\\til\\venv\\lib\\site-packages (from Twisted>=18.9.0->scrapy) (4.7.1)\n",
      "Collecting twisted-iocpsupport<2,>=1.0.2 (from Twisted>=18.9.0->scrapy)\n",
      "  Downloading twisted_iocpsupport-1.0.3-cp39-cp39-win_amd64.whl (40 kB)\n",
      "     ---------------------------------------- 0.0/40.5 kB ? eta -:--:--\n",
      "     ---------------------------------------- 40.5/40.5 kB 2.0 MB/s eta 0:00:00\n",
      "Requirement already satisfied: idna in c:\\users\\system999\\til\\venv\\lib\\site-packages (from tldextract->scrapy) (3.4)\n",
      "Requirement already satisfied: requests>=2.1.0 in c:\\users\\system999\\til\\venv\\lib\\site-packages (from tldextract->scrapy) (2.31.0)\n",
      "Collecting requests-file>=1.4 (from tldextract->scrapy)\n",
      "  Downloading requests_file-1.5.1-py2.py3-none-any.whl (3.7 kB)\n",
      "Collecting filelock>=3.0.8 (from tldextract->scrapy)\n",
      "  Obtaining dependency information for filelock>=3.0.8 from https://files.pythonhosted.org/packages/00/45/ec3407adf6f6b5bf867a4462b2b0af27597a26bd3cd6e2534cb6ab029938/filelock-3.12.2-py3-none-any.whl.metadata\n",
      "  Downloading filelock-3.12.2-py3-none-any.whl.metadata (2.7 kB)\n",
      "Requirement already satisfied: pycparser in c:\\users\\system999\\til\\venv\\lib\\site-packages (from cffi>=1.12->cryptography>=36.0.0->scrapy) (2.21)\n",
      "Requirement already satisfied: charset-normalizer<4,>=2 in c:\\users\\system999\\til\\venv\\lib\\site-packages (from requests>=2.1.0->tldextract->scrapy) (3.2.0)\n",
      "Requirement already satisfied: urllib3<3,>=1.21.1 in c:\\users\\system999\\til\\venv\\lib\\site-packages (from requests>=2.1.0->tldextract->scrapy) (2.0.4)\n",
      "Requirement already satisfied: certifi>=2017.4.17 in c:\\users\\system999\\til\\venv\\lib\\site-packages (from requests>=2.1.0->tldextract->scrapy) (2023.7.22)\n",
      "Downloading Scrapy-2.10.0-py2.py3-none-any.whl (281 kB)\n",
      "   ---------------------------------------- 0.0/281.4 kB ? eta -:--:--\n",
      "   --------------------------------------- 281.4/281.4 kB 18.1 MB/s eta 0:00:00\n",
      "Downloading cryptography-41.0.3-cp37-abi3-win_amd64.whl (2.6 MB)\n",
      "   ---------------------------------------- 0.0/2.6 MB ? eta -:--:--\n",
      "   ----------- ---------------------------- 0.8/2.6 MB 23.4 MB/s eta 0:00:01\n",
      "   -------------------------- ------------- 1.8/2.6 MB 22.7 MB/s eta 0:00:01\n",
      "   ---------------------------------------  2.6/2.6 MB 21.0 MB/s eta 0:00:01\n",
      "   ---------------------------------------- 2.6/2.6 MB 18.7 MB/s eta 0:00:00\n",
      "Downloading pyOpenSSL-23.2.0-py3-none-any.whl (59 kB)\n",
      "   ---------------------------------------- 0.0/59.0 kB ? eta -:--:--\n",
      "   ---------------------------------------- 59.0/59.0 kB 3.0 MB/s eta 0:00:00\n",
      "Downloading service_identity-23.1.0-py3-none-any.whl (12 kB)\n",
      "Downloading w3lib-2.1.2-py3-none-any.whl (21 kB)\n",
      "Downloading tldextract-3.4.4-py3-none-any.whl (93 kB)\n",
      "   ---------------------------------------- 0.0/93.3 kB ? eta -:--:--\n",
      "   ---------------------------------------- 93.3/93.3 kB 5.2 MB/s eta 0:00:00\n",
      "Using cached filelock-3.12.2-py3-none-any.whl (10 kB)\n",
      "Installing collected packages: twisted-iocpsupport, PyDispatcher, incremental, constantly, zope.interface, w3lib, queuelib, pyasn1, protego, jmespath, itemadapter, hyperlink, filelock, cssselect, Automat, Twisted, requests-file, pyasn1-modules, parsel, cryptography, tldextract, service-identity, pyOpenSSL, itemloaders, scrapy\n",
      "Successfully installed Automat-22.10.0 PyDispatcher-2.0.7 Twisted-22.10.0 constantly-15.1.0 cryptography-41.0.3 cssselect-1.2.0 filelock-3.12.2 hyperlink-21.0.0 incremental-22.10.0 itemadapter-0.8.0 itemloaders-1.1.0 jmespath-1.0.1 parsel-1.8.1 protego-0.2.1 pyOpenSSL-23.2.0 pyasn1-0.5.0 pyasn1-modules-0.3.0 queuelib-1.6.2 requests-file-1.5.1 scrapy-2.10.0 service-identity-23.1.0 tldextract-3.4.4 twisted-iocpsupport-1.0.3 w3lib-2.1.2 zope.interface-6.0\n"
     ]
    }
   ],
   "source": [
    "!pip install scrapy"
   ]
  },
  {
   "cell_type": "code",
   "execution_count": 7,
   "id": "78557491-6ded-4b8e-9c81-ba6e62f7a2b9",
   "metadata": {},
   "outputs": [
    {
     "data": {
      "text/plain": [
       "'2.10.0'"
      ]
     },
     "execution_count": 7,
     "metadata": {},
     "output_type": "execute_result"
    }
   ],
   "source": [
    "import scrapy\n",
    "scrapy.__version__"
   ]
  },
  {
   "cell_type": "code",
   "execution_count": null,
   "id": "4699b174-3e03-4a70-80da-f06024817950",
   "metadata": {},
   "outputs": [],
   "source": []
  }
 ],
 "metadata": {
  "kernelspec": {
   "display_name": "Python 3 (ipykernel)",
   "language": "python",
   "name": "python3"
  },
  "language_info": {
   "codemirror_mode": {
    "name": "ipython",
    "version": 3
   },
   "file_extension": ".py",
   "mimetype": "text/x-python",
   "name": "python",
   "nbconvert_exporter": "python",
   "pygments_lexer": "ipython3",
   "version": "3.9.13"
  }
 },
 "nbformat": 4,
 "nbformat_minor": 5
}
