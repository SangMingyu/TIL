{
 "cells": [
  {
   "cell_type": "code",
   "execution_count": 2,
   "id": "d763ff3d-db43-4acf-974a-ce327826dc2d",
   "metadata": {},
   "outputs": [
    {
     "name": "stdout",
     "output_type": "stream",
     "text": [
      "4.11.2\n"
     ]
    }
   ],
   "source": [
    "import selenium\n",
    "print(selenium.__version__)"
   ]
  },
  {
   "cell_type": "code",
   "execution_count": 5,
   "id": "e8ca252f-98bd-41ba-9a28-3851d35773aa",
   "metadata": {},
   "outputs": [
    {
     "name": "stdout",
     "output_type": "stream",
     "text": [
      "driver/\n",
      "    chromedriver.exe\n",
      "    LICENSE.chromedriver\n"
     ]
    }
   ],
   "source": [
    "import os\n",
    "\n",
    "def list_files(startpath):\n",
    "    for root, dirs, files in os.walk(startpath):\n",
    "        level = root.replace(startpath, '').count(os.sep)\n",
    "        indent = ' ' * 4 * (level)\n",
    "        print('{}{}/'.format(indent, os.path.basename(root)))\n",
    "        subindent = ' ' * 4 * (level + 1)\n",
    "        for f in files:\n",
    "            print('{}{}'.format(subindent, f))\n",
    "\n",
    "list_files(\"driver\")"
   ]
  },
  {
   "cell_type": "code",
   "execution_count": 15,
   "id": "1db559c3-ee71-4bb1-af6f-c12b582a1413",
   "metadata": {},
   "outputs": [],
   "source": [
    "from selenium import webdriver\n",
    "from selenium.webdriver.chrome.service import Service\n",
    "import time\n",
    "\n",
    "CHROME_DRIVER_PATH = './driver/chromedriver.exe'\n",
    "service = Service(executable_path=CHROME_DRIVER_PATH)\n",
    "options = webdriver.ChromeOptions()\n",
    "driver = webdriver.Chrome(service=service, options=options)\n",
    "#크롬 드라이버에 url 주소 넣고 실행\n",
    "\n",
    "driver.get('https://www.google.co.kr/')\n",
    "\n",
    "# 페이지가 완전히 로딩되도록 3초동안 기다림\n",
    "time.sleep(3)"
   ]
  },
  {
   "cell_type": "code",
   "execution_count": 12,
   "id": "2a082fc1-60e3-4d1d-8f6e-19cc810dce9a",
   "metadata": {},
   "outputs": [],
   "source": [
    "from selenium import webdriver\n",
    "from selenium.webdriver.chrome.service import Service as ChromeService\n",
    "from webdriver_manager.chrome import ChromeDriverManager\n",
    "\n",
    "driver = webdriver.Chrome(service=ChromeService(ChromeDriverManager().install()))\n",
    "driver.get('https://www.nate.com/')"
   ]
  },
  {
   "cell_type": "code",
   "execution_count": 13,
   "id": "9f974bd3-7f50-4d13-8d50-de57e1504aeb",
   "metadata": {},
   "outputs": [],
   "source": [
    "driver.quit()"
   ]
  },
  {
   "cell_type": "code",
   "execution_count": null,
   "id": "029f2efc-3a3b-485c-aa66-d607daaf18b7",
   "metadata": {},
   "outputs": [],
   "source": []
  }
 ],
 "metadata": {
  "kernelspec": {
   "display_name": "Python 3 (ipykernel)",
   "language": "python",
   "name": "python3"
  },
  "language_info": {
   "codemirror_mode": {
    "name": "ipython",
    "version": 3
   },
   "file_extension": ".py",
   "mimetype": "text/x-python",
   "name": "python",
   "nbconvert_exporter": "python",
   "pygments_lexer": "ipython3",
   "version": "3.9.13"
  }
 },
 "nbformat": 4,
 "nbformat_minor": 5
}
