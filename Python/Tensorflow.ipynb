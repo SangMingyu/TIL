{
  "nbformat": 4,
  "nbformat_minor": 0,
  "metadata": {
    "colab": {
      "provenance": [],
      "gpuType": "T4"
    },
    "kernelspec": {
      "name": "python3",
      "display_name": "Python 3"
    },
    "language_info": {
      "name": "python"
    },
    "accelerator": "GPU"
  },
  "cells": [
    {
      "cell_type": "markdown",
      "source": [
        "# 텐서플로 시작하기\n",
        "- p120"
      ],
      "metadata": {
        "id": "loor8O-hFkdC"
      }
    },
    {
      "cell_type": "markdown",
      "source": [
        "## 상수 텐서와 변수\n",
        "- 모두 1이거나 0인 텐서를 만들자"
      ],
      "metadata": {
        "id": "3hTLnJ-BF98R"
      }
    },
    {
      "cell_type": "code",
      "execution_count": 97,
      "metadata": {
        "colab": {
          "base_uri": "https://localhost:8080/"
        },
        "id": "mwHLMAYMFhjH",
        "outputId": "a242141f-75ce-452a-e427-7ced041aaa47"
      },
      "outputs": [
        {
          "output_type": "execute_result",
          "data": {
            "text/plain": [
              "<tf.Tensor: shape=(2, 1), dtype=float32, numpy=\n",
              "array([[1.],\n",
              "       [1.]], dtype=float32)>"
            ]
          },
          "metadata": {},
          "execution_count": 97
        }
      ],
      "source": [
        "import tensorflow as tf\n",
        "x = tf.ones(shape=(2, 1))\n",
        "x"
      ]
    },
    {
      "cell_type": "code",
      "source": [
        "x = tf.zeros(shape=(2, 1))\n",
        "x"
      ],
      "metadata": {
        "colab": {
          "base_uri": "https://localhost:8080/"
        },
        "id": "wdk9yh3vGVLI",
        "outputId": "97510bfa-afff-4ada-a22d-78107d984013"
      },
      "execution_count": 98,
      "outputs": [
        {
          "output_type": "execute_result",
          "data": {
            "text/plain": [
              "<tf.Tensor: shape=(2, 1), dtype=float32, numpy=\n",
              "array([[0.],\n",
              "       [0.]], dtype=float32)>"
            ]
          },
          "metadata": {},
          "execution_count": 98
        }
      ]
    },
    {
      "cell_type": "markdown",
      "source": [
        "## 랜덤 텐서"
      ],
      "metadata": {
        "id": "NkFsQyrGGpMI"
      }
    },
    {
      "cell_type": "code",
      "source": [
        "x = tf.random.normal(shape=(3, 1), mean = 0., stddev= 1.)\n",
        "print(x)"
      ],
      "metadata": {
        "colab": {
          "base_uri": "https://localhost:8080/"
        },
        "id": "zlUwa3h0Gqvn",
        "outputId": "1468ba73-b539-4fa1-b819-eed4290f8bf9"
      },
      "execution_count": 99,
      "outputs": [
        {
          "output_type": "stream",
          "name": "stdout",
          "text": [
            "tf.Tensor(\n",
            "[[0.785358  ]\n",
            " [0.49953645]\n",
            " [0.32671285]], shape=(3, 1), dtype=float32)\n"
          ]
        }
      ]
    },
    {
      "cell_type": "code",
      "source": [
        "x = tf.random.uniform(shape=(3, 1), minval = 0., maxval=1.)\n",
        "print(x)"
      ],
      "metadata": {
        "colab": {
          "base_uri": "https://localhost:8080/"
        },
        "id": "K17FmouYG6tV",
        "outputId": "4f43a3f8-973b-46f0-e133-b072c3a3ded7"
      },
      "execution_count": 100,
      "outputs": [
        {
          "output_type": "stream",
          "name": "stdout",
          "text": [
            "tf.Tensor(\n",
            "[[0.79203963]\n",
            " [0.6871804 ]\n",
            " [0.7333567 ]], shape=(3, 1), dtype=float32)\n"
          ]
        }
      ]
    },
    {
      "cell_type": "markdown",
      "source": [
        "## 값 할당"
      ],
      "metadata": {
        "id": "2B-FW99DHuee"
      }
    },
    {
      "cell_type": "code",
      "source": [
        "import numpy as np\n",
        "x = np.ones(shape=(2, 2))\n",
        "x[0, 0] = 0.\n",
        "x"
      ],
      "metadata": {
        "colab": {
          "base_uri": "https://localhost:8080/"
        },
        "id": "qyg1s-lpHwqH",
        "outputId": "cbc360d1-eae0-4fd4-dc1e-63b43ea35a07"
      },
      "execution_count": 101,
      "outputs": [
        {
          "output_type": "execute_result",
          "data": {
            "text/plain": [
              "array([[0., 1.],\n",
              "       [1., 1.]])"
            ]
          },
          "metadata": {},
          "execution_count": 101
        }
      ]
    },
    {
      "cell_type": "code",
      "source": [
        "x = tf.ones(shape=(2, 2))\n",
        "x[0, 0] = 0. # 할당 없음"
      ],
      "metadata": {
        "colab": {
          "base_uri": "https://localhost:8080/",
          "height": 203
        },
        "id": "6vz_hLrfH2HS",
        "outputId": "791911ba-0bb6-435b-f096-b268723600a3"
      },
      "execution_count": 103,
      "outputs": [
        {
          "output_type": "error",
          "ename": "TypeError",
          "evalue": "ignored",
          "traceback": [
            "\u001b[0;31m---------------------------------------------------------------------------\u001b[0m",
            "\u001b[0;31mTypeError\u001b[0m                                 Traceback (most recent call last)",
            "\u001b[0;32m<ipython-input-103-eb860f567a9e>\u001b[0m in \u001b[0;36m<cell line: 2>\u001b[0;34m()\u001b[0m\n\u001b[1;32m      1\u001b[0m \u001b[0mx\u001b[0m \u001b[0;34m=\u001b[0m \u001b[0mtf\u001b[0m\u001b[0;34m.\u001b[0m\u001b[0mones\u001b[0m\u001b[0;34m(\u001b[0m\u001b[0mshape\u001b[0m\u001b[0;34m=\u001b[0m\u001b[0;34m(\u001b[0m\u001b[0;36m2\u001b[0m\u001b[0;34m,\u001b[0m \u001b[0;36m2\u001b[0m\u001b[0;34m)\u001b[0m\u001b[0;34m)\u001b[0m\u001b[0;34m\u001b[0m\u001b[0;34m\u001b[0m\u001b[0m\n\u001b[0;32m----> 2\u001b[0;31m \u001b[0mx\u001b[0m\u001b[0;34m[\u001b[0m\u001b[0;36m0\u001b[0m\u001b[0;34m,\u001b[0m \u001b[0;36m0\u001b[0m\u001b[0;34m]\u001b[0m \u001b[0;34m=\u001b[0m \u001b[0;36m0.\u001b[0m \u001b[0;31m# 할당 없음\u001b[0m\u001b[0;34m\u001b[0m\u001b[0;34m\u001b[0m\u001b[0m\n\u001b[0m",
            "\u001b[0;31mTypeError\u001b[0m: 'tensorflow.python.framework.ops.EagerTensor' object does not support item assignment"
          ]
        }
      ]
    },
    {
      "cell_type": "code",
      "source": [
        "v = tf.Variable(initial_value=tf.random.normal(shape=(3, 1)))\n",
        "print(v)"
      ],
      "metadata": {
        "colab": {
          "base_uri": "https://localhost:8080/"
        },
        "id": "oLjxib7yIJzb",
        "outputId": "3dcb5038-8991-4d2a-a9ee-789af508f020"
      },
      "execution_count": 104,
      "outputs": [
        {
          "output_type": "stream",
          "name": "stdout",
          "text": [
            "<tf.Variable 'Variable:0' shape=(3, 1) dtype=float32, numpy=\n",
            "array([[-0.4541866 ],\n",
            "       [ 0.21954529],\n",
            "       [-1.179679  ]], dtype=float32)>\n"
          ]
        }
      ]
    },
    {
      "cell_type": "code",
      "source": [
        "v.assign(tf.ones((3, 1)))"
      ],
      "metadata": {
        "colab": {
          "base_uri": "https://localhost:8080/"
        },
        "id": "7iG9lBK9IP7d",
        "outputId": "c9d800d4-b34b-4bc4-ff43-65df575665d8"
      },
      "execution_count": 105,
      "outputs": [
        {
          "output_type": "execute_result",
          "data": {
            "text/plain": [
              "<tf.Variable 'UnreadVariable' shape=(3, 1) dtype=float32, numpy=\n",
              "array([[1.],\n",
              "       [1.],\n",
              "       [1.]], dtype=float32)>"
            ]
          },
          "metadata": {},
          "execution_count": 105
        }
      ]
    },
    {
      "cell_type": "code",
      "source": [
        "v[0, 0].assign(3.)"
      ],
      "metadata": {
        "colab": {
          "base_uri": "https://localhost:8080/"
        },
        "id": "tgosWQ73IU29",
        "outputId": "6aea05cb-d8fc-4915-83b0-733e6310101f"
      },
      "execution_count": 106,
      "outputs": [
        {
          "output_type": "execute_result",
          "data": {
            "text/plain": [
              "<tf.Variable 'UnreadVariable' shape=(3, 1) dtype=float32, numpy=\n",
              "array([[3.],\n",
              "       [1.],\n",
              "       [1.]], dtype=float32)>"
            ]
          },
          "metadata": {},
          "execution_count": 106
        }
      ]
    },
    {
      "cell_type": "code",
      "source": [
        "v.assign_add(tf.ones((3, 1)))"
      ],
      "metadata": {
        "colab": {
          "base_uri": "https://localhost:8080/"
        },
        "id": "iIfWRVS7IZK2",
        "outputId": "e4d89aec-17d7-4d21-a352-d52699ebe5b3"
      },
      "execution_count": 107,
      "outputs": [
        {
          "output_type": "execute_result",
          "data": {
            "text/plain": [
              "<tf.Variable 'UnreadVariable' shape=(3, 1) dtype=float32, numpy=\n",
              "array([[4.],\n",
              "       [2.],\n",
              "       [2.]], dtype=float32)>"
            ]
          },
          "metadata": {},
          "execution_count": 107
        }
      ]
    },
    {
      "cell_type": "markdown",
      "source": [
        "## 텐서 연산 : 텐서플로에서 사칙연산"
      ],
      "metadata": {
        "id": "MeyFyyMeInnK"
      }
    },
    {
      "cell_type": "code",
      "source": [
        "a = tf.ones((2, 2))\n",
        "b = tf.square(a) # 제곱 계산\n",
        "c = tf.sqrt(a) # 제곱근 계산\n",
        "d = b + c # 두 텐서 더하기\n",
        "e = tf.matmul(a, d)\n",
        "e *= d\n",
        "e"
      ],
      "metadata": {
        "colab": {
          "base_uri": "https://localhost:8080/"
        },
        "id": "0Lyi3OqpIqmm",
        "outputId": "799bae8d-cc45-4d21-d6ae-e8ff3c2fb7bd"
      },
      "execution_count": 108,
      "outputs": [
        {
          "output_type": "execute_result",
          "data": {
            "text/plain": [
              "<tf.Tensor: shape=(2, 2), dtype=float32, numpy=\n",
              "array([[8., 8.],\n",
              "       [8., 8.]], dtype=float32)>"
            ]
          },
          "metadata": {},
          "execution_count": 108
        }
      ]
    },
    {
      "cell_type": "markdown",
      "source": [
        "# GradientTape API 살펴보기\n",
        "- 텐서플로 numpy와 비슷\n",
        "  + 미분가능하게 만들어줌 (텐서플로 O, numpy X)"
      ],
      "metadata": {
        "id": "i5OnuXUZJTws"
      }
    },
    {
      "cell_type": "code",
      "source": [
        "input_var = tf.Variable(initial_value=3.)\n",
        "with tf.GradientTape() as tape:\n",
        "   result = tf.square(input_var)\n",
        "gradient = tape.gradient(result, input_var)"
      ],
      "metadata": {
        "id": "Du7stz_9J6u3"
      },
      "execution_count": 109,
      "outputs": []
    },
    {
      "cell_type": "code",
      "source": [
        "input_const = tf.constant(3.)\n",
        "with tf.GradientTape() as tape:\n",
        "   tape.watch(input_const)\n",
        "   result = tf.square(input_const)\n",
        "gradient = tape.gradient(result, input_const)"
      ],
      "metadata": {
        "id": "qVS5JwMeKQif"
      },
      "execution_count": 110,
      "outputs": []
    },
    {
      "cell_type": "code",
      "source": [
        "time = tf.Variable(0.)\n",
        "with tf.GradientTape() as outer_tape:\n",
        "    with tf.GradientTape() as inner_tape:\n",
        "        position =  4.9 * time ** 2\n",
        "    speed = inner_tape.gradient(position, time)\n",
        "acceleration = outer_tape.gradient(speed, time)"
      ],
      "metadata": {
        "id": "F0M924f1KUpH"
      },
      "execution_count": 111,
      "outputs": []
    },
    {
      "cell_type": "markdown",
      "source": [
        "# 엔드-투-엔드 예제\n",
        "- 텐서플로 선형 분류기\n"
      ],
      "metadata": {
        "id": "qEeaMB03OCaF"
      }
    },
    {
      "cell_type": "markdown",
      "source": [
        "## 2D 평면에 두 클래스 데이터 생성"
      ],
      "metadata": {
        "id": "F7OH4p3dOjjI"
      }
    },
    {
      "cell_type": "code",
      "source": [
        "num_samples_per_class = 1000\n",
        "negative_samples = np.random.multivariate_normal(\n",
        "    mean = [0, 3], # x축의 위치를 살짝 조정\n",
        "    cov = [[1, 0.5], [0.5, 1]], # 데이터 방향이 우상향\n",
        "    size = num_samples_per_class\n",
        ")\n",
        "\n",
        "positive_samples = np.random.multivariate_normal(\n",
        "    mean = [3, 0], # x축의 위치를 살짝 조정\n",
        "    cov = [[1, 0.5], [0.5, 1]], # 데이터 방향이 우상향\n",
        "    size = num_samples_per_class\n",
        ")"
      ],
      "metadata": {
        "id": "GeG_qVYYOpXW"
      },
      "execution_count": 112,
      "outputs": []
    },
    {
      "cell_type": "code",
      "source": [
        "positive_samples.dtype"
      ],
      "metadata": {
        "colab": {
          "base_uri": "https://localhost:8080/"
        },
        "id": "-Tbq5vc-QAxp",
        "outputId": "349df4d6-3495-4a1f-cc64-ef9a353350e1"
      },
      "execution_count": 113,
      "outputs": [
        {
          "output_type": "execute_result",
          "data": {
            "text/plain": [
              "dtype('float64')"
            ]
          },
          "metadata": {},
          "execution_count": 113
        }
      ]
    },
    {
      "cell_type": "markdown",
      "source": [
        "## 두 데이터 합치기"
      ],
      "metadata": {
        "id": "ioobORU3PyXf"
      }
    },
    {
      "cell_type": "code",
      "source": [
        "inputs = np.vstack((negative_samples, positive_samples)).astype(np.float32)\n",
        "inputs.shape"
      ],
      "metadata": {
        "colab": {
          "base_uri": "https://localhost:8080/"
        },
        "id": "rFtJp79wOjNP",
        "outputId": "47bb9438-b6d2-40fa-83ed-1627797d4c5a"
      },
      "execution_count": 114,
      "outputs": [
        {
          "output_type": "execute_result",
          "data": {
            "text/plain": [
              "(2000, 2)"
            ]
          },
          "metadata": {},
          "execution_count": 114
        }
      ]
    },
    {
      "cell_type": "markdown",
      "source": [
        "## 0과 1로 구성된 타겟 생성"
      ],
      "metadata": {
        "id": "JbJz54YeQhgm"
      }
    },
    {
      "cell_type": "code",
      "source": [
        "targets = np.vstack((np.zeros((num_samples_per_class, 1), dtype=\"float32\"),\n",
        "                     np.ones((num_samples_per_class, 1), dtype=\"float32\")))\n",
        "targets.shape"
      ],
      "metadata": {
        "colab": {
          "base_uri": "https://localhost:8080/"
        },
        "id": "0FvE5ZnvOgKX",
        "outputId": "77b02791-63f1-425e-b879-7817618ebb63"
      },
      "execution_count": 115,
      "outputs": [
        {
          "output_type": "execute_result",
          "data": {
            "text/plain": [
              "(2000, 1)"
            ]
          },
          "metadata": {},
          "execution_count": 115
        }
      ]
    },
    {
      "cell_type": "markdown",
      "source": [
        "## 그래프 그려보기"
      ],
      "metadata": {
        "id": "_NuMDcgxRJN2"
      }
    },
    {
      "cell_type": "code",
      "source": [
        "import matplotlib.pyplot as plt\n",
        "plt.scatter(inputs[:, 0], inputs[:, 1], c=targets[:, 0])\n",
        "plt.show()"
      ],
      "metadata": {
        "colab": {
          "base_uri": "https://localhost:8080/",
          "height": 430
        },
        "id": "jqM5Ly4JRKzZ",
        "outputId": "1d7e5434-a3ed-44b0-9abc-3ec3a32fcbb3"
      },
      "execution_count": 116,
      "outputs": [
        {
          "output_type": "display_data",
          "data": {
            "text/plain": [
              "<Figure size 640x480 with 1 Axes>"
            ],
            "image/png": "[encoded data removed]"
          },
          "metadata": {}
        }
      ]
    },
    {
      "cell_type": "markdown",
      "source": [
        "p.127\n",
        "- 선형 분류기\n",
        "  = prediction = w * input + b"
      ],
      "metadata": {
        "id": "uXkl4PY0RZr1"
      }
    },
    {
      "cell_type": "code",
      "source": [
        "input_dim = 2 # 입력은 2차원 배열\n",
        "output_dim = 1 # 출력 예측은 하나의 점수, 0에 가까우면 0, 1에 가까우면 1\n",
        "W = tf.Variable(initial_value = tf.random.uniform(shape=(input_dim, output_dim)))\n",
        "b = tf.Variable(initial_value = tf.zeros(shape=(output_dim, )))"
      ],
      "metadata": {
        "id": "2B7xMFPzQ1hs"
      },
      "execution_count": 117,
      "outputs": []
    },
    {
      "cell_type": "markdown",
      "source": [
        "## 정방향 패스 함수"
      ],
      "metadata": {
        "id": "kNLFrnJuS4dQ"
      }
    },
    {
      "cell_type": "code",
      "source": [
        "def model(inputs):\n",
        "  return tf.matmul(inputs, W) + b"
      ],
      "metadata": {
        "id": "czBdTKMUS7d-"
      },
      "execution_count": 118,
      "outputs": []
    },
    {
      "cell_type": "markdown",
      "source": [
        "## 평균 제곱 오차 손실 함수"
      ],
      "metadata": {
        "id": "AWB5SsG8Tffy"
      }
    },
    {
      "cell_type": "code",
      "source": [
        "def square_loss(targets, predictions):\n",
        "  per_sample_losses = tf.square(targets - predictions) # 각 샘플의 손실 값을 담고 있다.\n",
        "  return tf.reduce_mean(per_sample_losses) # 샘플당 손실 값으로 하나의 스칼라 손실 값으로 평균"
      ],
      "metadata": {
        "id": "96zvXuluTmRy"
      },
      "execution_count": 119,
      "outputs": []
    },
    {
      "cell_type": "markdown",
      "source": [
        "## 훈련 스텝 함수\n",
        "- 순전파 계산(=정방향 계산)\n",
        "- 역전파 계산\n",
        "- 가중치를 업데이트 = 기울기 변동 = 오차를 감소시키기 위한 목적"
      ],
      "metadata": {
        "id": "5mivqgHmUJHl"
      }
    },
    {
      "cell_type": "code",
      "source": [
        "learning_rate = 0.1 # step\n",
        "def training_step(inputs, targets):\n",
        "  with tf.GradientTape() as tape: # 정방향 계산, 순전파 계산\n",
        "    predictions = model(inputs)\n",
        "    loss = square_loss(targets, predictions)\n",
        "  # 역전파 수행 중, 각각의 업데이트 된 기울기(=가중치)\n",
        "  grad_loss_wrt_W, grad_loss_wrt_b = tape.gradient(loss, [W, b])\n",
        "  W.assign_sub(grad_loss_wrt_W * learning_rate) # 가중치 업데이트\n",
        "  b.assign_sub(grad_loss_wrt_b * learning_rate) # 회귀식으로 따지면 절편\n",
        "\n",
        "  return loss"
      ],
      "metadata": {
        "id": "cGN664JxUZYG"
      },
      "execution_count": 120,
      "outputs": []
    },
    {
      "cell_type": "markdown",
      "source": [
        "## 배치 훈련 루프"
      ],
      "metadata": {
        "id": "8SQghyR6Wjl-"
      }
    },
    {
      "cell_type": "code",
      "source": [
        "for step in range(40):\n",
        "    loss = training_step(inputs, targets)\n",
        "    print(f\"{step}번째 스텝의 손실: {loss:.4f}\")"
      ],
      "metadata": {
        "colab": {
          "base_uri": "https://localhost:8080/"
        },
        "id": "2AHNVwuoWk6t",
        "outputId": "56a5fb1b-6fe0-4e77-ff48-693ea2007984"
      },
      "execution_count": 121,
      "outputs": [
        {
          "output_type": "stream",
          "name": "stdout",
          "text": [
            "0번째 스텝의 손실: 2.7821\n",
            "1번째 스텝의 손실: 0.3478\n",
            "2번째 스텝의 손실: 0.1489\n",
            "3번째 스텝의 손실: 0.1186\n",
            "4번째 스텝의 손실: 0.1083\n",
            "5번째 스텝의 손실: 0.1010\n",
            "6번째 스텝의 손실: 0.0944\n",
            "7번째 스텝의 손실: 0.0885\n",
            "8번째 스텝의 손실: 0.0830\n",
            "9번째 스텝의 손실: 0.0781\n",
            "10번째 스텝의 손실: 0.0735\n",
            "11번째 스텝의 손실: 0.0693\n",
            "12번째 스텝의 손실: 0.0655\n",
            "13번째 스텝의 손실: 0.0620\n",
            "14번째 스텝의 손실: 0.0588\n",
            "15번째 스텝의 손실: 0.0559\n",
            "16번째 스텝의 손실: 0.0532\n",
            "17번째 스텝의 손실: 0.0508\n",
            "18번째 스텝의 손실: 0.0486\n",
            "19번째 스텝의 손실: 0.0465\n",
            "20번째 스텝의 손실: 0.0446\n",
            "21번째 스텝의 손실: 0.0429\n",
            "22번째 스텝의 손실: 0.0413\n",
            "23번째 스텝의 손실: 0.0399\n",
            "24번째 스텝의 손실: 0.0386\n",
            "25번째 스텝의 손실: 0.0374\n",
            "26번째 스텝의 손실: 0.0363\n",
            "27번째 스텝의 손실: 0.0353\n",
            "28번째 스텝의 손실: 0.0343\n",
            "29번째 스텝의 손실: 0.0335\n",
            "30번째 스텝의 손실: 0.0327\n",
            "31번째 스텝의 손실: 0.0320\n",
            "32번째 스텝의 손실: 0.0314\n",
            "33번째 스텝의 손실: 0.0308\n",
            "34번째 스텝의 손실: 0.0302\n",
            "35번째 스텝의 손실: 0.0297\n",
            "36번째 스텝의 손실: 0.0293\n",
            "37번째 스텝의 손실: 0.0289\n",
            "38번째 스텝의 손실: 0.0285\n",
            "39번째 스텝의 손실: 0.0281\n"
          ]
        }
      ]
    },
    {
      "cell_type": "code",
      "source": [
        "predictions = model(inputs)\n",
        "\n",
        "fig, ax = plt.subplots(ncols = 2, figsize=(10, 5))\n",
        "\n",
        "ax[0].scatter(inputs[:, 0], inputs[:, 1], c=targets[:, 0])\n",
        "ax[0].set_title(\"Target\")\n",
        "ax[1].scatter(inputs[:, 0], inputs[:, 1], c=predictions[:, 0] > 0.5)\n",
        "ax[1].set_title(\"Prediction\")\n",
        "plt.show()"
      ],
      "metadata": {
        "colab": {
          "base_uri": "https://localhost:8080/",
          "height": 468
        },
        "id": "JEDecZBvW2o4",
        "outputId": "5234d7cb-c769-4966-e485-7cc0a22fcace"
      },
      "execution_count": 122,
      "outputs": [
        {
          "output_type": "display_data",
          "data": {
            "text/plain": [
              "<Figure size 1000x500 with 2 Axes>"
            ],
            "image/png": "[encoded data removed]"
          },
          "metadata": {}
        }
      ]
    },
    {
      "cell_type": "markdown",
      "source": [
        "## 직선 긋기"
      ],
      "metadata": {
        "id": "AWp07Ap2Xkvc"
      }
    },
    {
      "cell_type": "code",
      "source": [
        "x = np.linspace(-1, 4, 100)\n",
        "# 사실 100개의 x 축 좌표를 만들 필요 없이 시작과 종료 위치만 있어도 됩니다.\n",
        "# x = [-1, 4]\n",
        "y = - W[0] /  W[1] * x + (0.5 - b) / W[1]\n",
        "\n",
        "fig, ax = plt.subplots(ncols = 2, figsize=(10, 5))\n",
        "\n",
        "ax[0].scatter(inputs[:, 0], inputs[:, 1], c=targets[:, 0])\n",
        "ax[0].set_title(\"Target\")\n",
        "ax[0].plot(x, y, '--r')\n",
        "ax[1].scatter(inputs[:, 0], inputs[:, 1], c=predictions[:, 0] > 0.5)\n",
        "ax[1].set_title(\"Prediction\")\n",
        "ax[1].plot(x, y, '--r')\n",
        "plt.show()"
      ],
      "metadata": {
        "colab": {
          "base_uri": "https://localhost:8080/",
          "height": 468
        },
        "id": "zgAqtiPOXmQ0",
        "outputId": "85d4e5da-648c-4a76-a240-ccf6d8e7a633"
      },
      "execution_count": 123,
      "outputs": [
        {
          "output_type": "display_data",
          "data": {
            "text/plain": [
              "<Figure size 1000x500 with 2 Axes>"
            ],
            "image/png": "[encoded data removed]"
          },
          "metadata": {}
        }
      ]
    },
    {
      "cell_type": "markdown",
      "source": [
        "# 영화 리뷰 분류 : 이진 분류 문제\n",
        "- p.147"
      ],
      "metadata": {
        "id": "maN2z8tcbcMj"
      }
    },
    {
      "cell_type": "code",
      "source": [
        "from tensorflow.keras.datasets import imdb\n",
        "(train_data, train_labels), (test_data, test_labels) = imdb.load_data(num_words=10000)"
      ],
      "metadata": {
        "id": "i0G4JV86bnss"
      },
      "execution_count": 124,
      "outputs": []
    },
    {
      "cell_type": "code",
      "source": [
        "train_data[0][:3] # 형태소 분석, 텍스트 마이닝 할 때 나오는 숫자 개념"
      ],
      "metadata": {
        "colab": {
          "base_uri": "https://localhost:8080/"
        },
        "id": "vQ2Gn-s-b0t_",
        "outputId": "ba8d5a23-3e8b-4210-d20c-92b4971abdaf"
      },
      "execution_count": 125,
      "outputs": [
        {
          "output_type": "execute_result",
          "data": {
            "text/plain": [
              "[1, 14, 22]"
            ]
          },
          "metadata": {},
          "execution_count": 125
        }
      ]
    },
    {
      "cell_type": "code",
      "source": [
        "train_labels[0] # 부정적인 문장 0, 긍정적인 문장 1"
      ],
      "metadata": {
        "colab": {
          "base_uri": "https://localhost:8080/"
        },
        "id": "WOdMtU0bcZjp",
        "outputId": "48393af5-ef97-4a57-883a-088fe4ef37e5"
      },
      "execution_count": 126,
      "outputs": [
        {
          "output_type": "execute_result",
          "data": {
            "text/plain": [
              "1"
            ]
          },
          "metadata": {},
          "execution_count": 126
        }
      ]
    },
    {
      "cell_type": "code",
      "source": [
        "len(train_data[0]), len(train_data[1])"
      ],
      "metadata": {
        "colab": {
          "base_uri": "https://localhost:8080/"
        },
        "id": "z9a72AKAd9uy",
        "outputId": "631e396f-be68-4eac-b588-deaa40e76e88"
      },
      "execution_count": 127,
      "outputs": [
        {
          "output_type": "execute_result",
          "data": {
            "text/plain": [
              "(218, 189)"
            ]
          },
          "metadata": {},
          "execution_count": 127
        }
      ]
    },
    {
      "cell_type": "code",
      "source": [
        "max([max(sequence) for sequence in train_data]) # 가장 자주 등장하는 단어 1만개로 제한"
      ],
      "metadata": {
        "colab": {
          "base_uri": "https://localhost:8080/"
        },
        "id": "d_HuBdyccp4j",
        "outputId": "43b60e6c-64ec-42c2-fa21-bb8b79585b62"
      },
      "execution_count": 128,
      "outputs": [
        {
          "output_type": "execute_result",
          "data": {
            "text/plain": [
              "9999"
            ]
          },
          "metadata": {},
          "execution_count": 128
        }
      ]
    },
    {
      "cell_type": "code",
      "source": [
        "word_index = imdb.get_word_index()\n",
        "reverse_word_index = dict(\n",
        "    [(value, key) for (key, value) in word_index.items()])\n",
        "\n",
        "decode_review = \" \".join(\n",
        "    [reverse_word_index.get(i-3, \"?\") for i in train_data[1]]\n",
        ")\n",
        "\n",
        "decode_review"
      ],
      "metadata": {
        "colab": {
          "base_uri": "https://localhost:8080/",
          "height": 109
        },
        "id": "rVNRP3oWdEsf",
        "outputId": "5f7c25ef-32f7-4a59-fb2c-e944a0e90341"
      },
      "execution_count": 129,
      "outputs": [
        {
          "output_type": "execute_result",
          "data": {
            "text/plain": [
              "\"? big hair big boobs bad music and a giant safety pin these are the words to best describe this terrible movie i love cheesy horror movies and i've seen hundreds but this had got to be on of the worst ever made the plot is paper thin and ridiculous the acting is an abomination the script is completely laughable the best is the end showdown with the cop and how he worked out who the killer is it's just so damn terribly written the clothes are sickening and funny in equal ? the hair is big lots of boobs ? men wear those cut ? shirts that show off their ? sickening that men actually wore them and the music is just ? trash that plays over and over again in almost every scene there is trashy music boobs and ? taking away bodies and the gym still doesn't close for ? all joking aside this is a truly bad film whose only charm is to look back on the disaster that was the 80's and have a good old laugh at how bad everything was back then\""
            ],
            "application/vnd.google.colaboratory.intrinsic+json": {
              "type": "string"
            }
          },
          "metadata": {},
          "execution_count": 129
        }
      ]
    },
    {
      "cell_type": "markdown",
      "source": [
        "## 정수 시퀀스를 멀티-핫 인코딩으로 인코딩\n",
        "- p.149\n",
        "  + 텍스트 데이터는, 문장 길이가 다 달라서, 바로 행렬로 변환이 어렵다\n",
        "    + 방법 1: 같은 길이가 되도록 리스트에 패딩0을 추가\n",
        "    + 방법 2: 멀티- 핫 인코딩, 0과 1의 벡터로 변환"
      ],
      "metadata": {
        "id": "-msfB1GTdwP4"
      }
    },
    {
      "cell_type": "code",
      "source": [
        "import numpy as np\n",
        "def vectorize_sequences(sequences, dimension=10000):\n",
        "  results = np.zeros((len(sequences), dimension))\n",
        "  for i, sequence in enumerate(sequences):\n",
        "    for j in sequence:\n",
        "      results[i, j] = 1.\n",
        "\n",
        "  return results\n",
        "x_train = vectorize_sequences(train_data)\n",
        "x_test = vectorize_sequences(test_data)"
      ],
      "metadata": {
        "id": "5W9m7nLbfSYo"
      },
      "execution_count": 130,
      "outputs": []
    },
    {
      "cell_type": "code",
      "source": [
        "len(train_data[0]), len(train_data[1])"
      ],
      "metadata": {
        "colab": {
          "base_uri": "https://localhost:8080/"
        },
        "id": "0bpwd4rrgUmc",
        "outputId": "e7fef986-baba-4782-d2d0-8a24265f2ec5"
      },
      "execution_count": 131,
      "outputs": [
        {
          "output_type": "execute_result",
          "data": {
            "text/plain": [
              "(218, 189)"
            ]
          },
          "metadata": {},
          "execution_count": 131
        }
      ]
    },
    {
      "cell_type": "code",
      "source": [
        "len(x_train[0]), len(x_train[1])"
      ],
      "metadata": {
        "colab": {
          "base_uri": "https://localhost:8080/"
        },
        "id": "azU4lRyNf15c",
        "outputId": "88bbb90a-664b-4f31-ba30-b040485d41c3"
      },
      "execution_count": 132,
      "outputs": [
        {
          "output_type": "execute_result",
          "data": {
            "text/plain": [
              "(10000, 10000)"
            ]
          },
          "metadata": {},
          "execution_count": 132
        }
      ]
    },
    {
      "cell_type": "code",
      "source": [
        "x_train.shape"
      ],
      "metadata": {
        "colab": {
          "base_uri": "https://localhost:8080/"
        },
        "id": "nI7EBGnPgHYS",
        "outputId": "5b7674f0-35c3-4a9b-b6a1-44c38bfe2d10"
      },
      "execution_count": 133,
      "outputs": [
        {
          "output_type": "execute_result",
          "data": {
            "text/plain": [
              "(25000, 10000)"
            ]
          },
          "metadata": {},
          "execution_count": 133
        }
      ]
    },
    {
      "cell_type": "code",
      "source": [
        "x_test.shape"
      ],
      "metadata": {
        "colab": {
          "base_uri": "https://localhost:8080/"
        },
        "id": "cJf3Ie10gIbt",
        "outputId": "fb40abd5-4ac1-43e4-c973-e65bba9dc06f"
      },
      "execution_count": 134,
      "outputs": [
        {
          "output_type": "execute_result",
          "data": {
            "text/plain": [
              "(25000, 10000)"
            ]
          },
          "metadata": {},
          "execution_count": 134
        }
      ]
    },
    {
      "cell_type": "markdown",
      "source": [
        "## y값 벡터 변환"
      ],
      "metadata": {
        "id": "yP7h5t-Zggv7"
      }
    },
    {
      "cell_type": "code",
      "source": [
        "y_train = np.asarray(train_labels).astype(\"float32\")\n",
        "y_test = np.asarray(test_labels).astype(\"float32\")"
      ],
      "metadata": {
        "id": "l0nW8LhbgkFZ"
      },
      "execution_count": 135,
      "outputs": []
    },
    {
      "cell_type": "markdown",
      "source": [
        "## 신경망 모델 만들기\n",
        "- Dense 층을 쌓기\n",
        "  + 얼마나 많은 층을 사용할 것인가?\n",
        "  + 각층에 얼마나 많은 은닉층을 사용할 것인가?\n",
        "  + 얼마나 많은 unit"
      ],
      "metadata": {
        "id": "g5MyGMaogvYW"
      }
    },
    {
      "cell_type": "code",
      "source": [
        "from tensorflow import keras\n",
        "from tensorflow.keras import layers\n",
        "\n",
        "model = keras.Sequential([\n",
        "    layers.Dense(16, activation=\"relu\"),\n",
        "    layers.Dense(16, activation=\"relu\"),\n",
        "    layers.Dense(1, activation=\"sigmoid\")\n",
        "])\n",
        "\n",
        "# 모델 컴파일하기\n",
        "model.compile(\n",
        "    optimizer=\"rmsprop\", # SGD 확률적 경사하강법\n",
        "    loss = 'binary_crossentropy',\n",
        "    metrics=['accuracy']\n",
        ")"
      ],
      "metadata": {
        "id": "QP-5xA-ehKGN"
      },
      "execution_count": 136,
      "outputs": []
    },
    {
      "cell_type": "markdown",
      "source": [
        "## 훈련 검증"
      ],
      "metadata": {
        "id": "6IHFr25Hi86_"
      }
    },
    {
      "cell_type": "code",
      "source": [
        "x_val = x_train[:10000]\n",
        "partial_x_train = x_train[10000:]\n",
        "y_val = y_train[:10000]\n",
        "partial_y_train = y_train[10000:]"
      ],
      "metadata": {
        "id": "6raJAmVAi-p1"
      },
      "execution_count": 137,
      "outputs": []
    },
    {
      "cell_type": "markdown",
      "source": [
        "## 모델 훈련"
      ],
      "metadata": {
        "id": "8Xiw0xIujGCz"
      }
    },
    {
      "cell_type": "code",
      "source": [
        "history = model.fit(partial_x_train,\n",
        "                    partial_y_train,\n",
        "                    epochs=20,\n",
        "                    batch_size=512,\n",
        "                    validation_data=(x_val, y_val))\n"
      ],
      "metadata": {
        "colab": {
          "base_uri": "https://localhost:8080/"
        },
        "id": "na9cemcdjA5w",
        "outputId": "d7e63a03-bd3c-4dc8-feec-b7bbc2409aa3"
      },
      "execution_count": 142,
      "outputs": [
        {
          "output_type": "stream",
          "name": "stdout",
          "text": [
            "Epoch 1/20\n",
            "30/30 [==============================] - 2s 75ms/step - loss: 5.7440e-04 - accuracy: 1.0000 - val_loss: 0.9540 - val_accuracy: 0.8671\n",
            "Epoch 2/20\n",
            "30/30 [==============================] - 1s 26ms/step - loss: 6.5169e-04 - accuracy: 1.0000 - val_loss: 0.9829 - val_accuracy: 0.8657\n",
            "Epoch 3/20\n",
            "30/30 [==============================] - 1s 23ms/step - loss: 4.5495e-04 - accuracy: 1.0000 - val_loss: 1.0076 - val_accuracy: 0.8657\n",
            "Epoch 4/20\n",
            "30/30 [==============================] - 1s 23ms/step - loss: 4.9382e-04 - accuracy: 1.0000 - val_loss: 1.1937 - val_accuracy: 0.8485\n",
            "Epoch 5/20\n",
            "30/30 [==============================] - 1s 25ms/step - loss: 9.2117e-04 - accuracy: 0.9999 - val_loss: 1.0406 - val_accuracy: 0.8657\n",
            "Epoch 6/20\n",
            "30/30 [==============================] - 1s 22ms/step - loss: 2.7869e-04 - accuracy: 1.0000 - val_loss: 1.0580 - val_accuracy: 0.8656\n",
            "Epoch 7/20\n",
            "30/30 [==============================] - 1s 22ms/step - loss: 2.4058e-04 - accuracy: 1.0000 - val_loss: 1.0812 - val_accuracy: 0.8653\n",
            "Epoch 8/20\n",
            "30/30 [==============================] - 1s 23ms/step - loss: 2.1035e-04 - accuracy: 1.0000 - val_loss: 1.1042 - val_accuracy: 0.8652\n",
            "Epoch 9/20\n",
            "30/30 [==============================] - 1s 24ms/step - loss: 1.7266e-04 - accuracy: 1.0000 - val_loss: 1.1276 - val_accuracy: 0.8658\n",
            "Epoch 10/20\n",
            "30/30 [==============================] - 1s 22ms/step - loss: 1.5025e-04 - accuracy: 1.0000 - val_loss: 1.1501 - val_accuracy: 0.8654\n",
            "Epoch 11/20\n",
            "30/30 [==============================] - 1s 26ms/step - loss: 1.3207e-04 - accuracy: 1.0000 - val_loss: 1.1651 - val_accuracy: 0.8653\n",
            "Epoch 12/20\n",
            "30/30 [==============================] - 1s 41ms/step - loss: 1.1645e-04 - accuracy: 1.0000 - val_loss: 1.1791 - val_accuracy: 0.8659\n",
            "Epoch 13/20\n",
            "30/30 [==============================] - 1s 27ms/step - loss: 1.0547e-04 - accuracy: 1.0000 - val_loss: 1.1958 - val_accuracy: 0.8653\n",
            "Epoch 14/20\n",
            "30/30 [==============================] - 1s 25ms/step - loss: 9.4866e-05 - accuracy: 1.0000 - val_loss: 1.2087 - val_accuracy: 0.8652\n",
            "Epoch 15/20\n",
            "30/30 [==============================] - 1s 25ms/step - loss: 8.6990e-05 - accuracy: 1.0000 - val_loss: 1.2218 - val_accuracy: 0.8656\n",
            "Epoch 16/20\n",
            "30/30 [==============================] - 1s 23ms/step - loss: 8.0258e-05 - accuracy: 1.0000 - val_loss: 1.2319 - val_accuracy: 0.8661\n",
            "Epoch 17/20\n",
            "30/30 [==============================] - 1s 22ms/step - loss: 7.3929e-05 - accuracy: 1.0000 - val_loss: 1.2468 - val_accuracy: 0.8642\n",
            "Epoch 18/20\n",
            "30/30 [==============================] - 1s 22ms/step - loss: 6.9381e-05 - accuracy: 1.0000 - val_loss: 1.2536 - val_accuracy: 0.8651\n",
            "Epoch 19/20\n",
            "30/30 [==============================] - 1s 25ms/step - loss: 6.4237e-05 - accuracy: 1.0000 - val_loss: 1.2641 - val_accuracy: 0.8656\n",
            "Epoch 20/20\n",
            "30/30 [==============================] - 1s 25ms/step - loss: 6.0366e-05 - accuracy: 1.0000 - val_loss: 1.2731 - val_accuracy: 0.8656\n"
          ]
        }
      ]
    },
    {
      "cell_type": "code",
      "source": [
        "history_dict = history.history\n",
        "history_dict.keys()"
      ],
      "metadata": {
        "colab": {
          "base_uri": "https://localhost:8080/"
        },
        "id": "LIKP-TBSjUWh",
        "outputId": "7fff5e47-57d2-4967-bdad-8dbb950d9281"
      },
      "execution_count": 143,
      "outputs": [
        {
          "output_type": "execute_result",
          "data": {
            "text/plain": [
              "dict_keys(['loss', 'accuracy', 'val_loss', 'val_accuracy'])"
            ]
          },
          "metadata": {},
          "execution_count": 143
        }
      ]
    },
    {
      "cell_type": "markdown",
      "source": [
        "## 훈련과 검증 손실 그리기\n",
        "- 해당 코드 함수화 할 것\n",
        "  + 미니 과제"
      ],
      "metadata": {
        "id": "-alBVhf6kCeR"
      }
    },
    {
      "cell_type": "code",
      "source": [
        "import matplotlib.pyplot as plt\n",
        "history_dict = history.history\n",
        "loss_values = history_dict[\"accuracy\"]\n",
        "val_loss_values = history_dict[\"val_accuracy\"]\n",
        "epochs = range(1, len(loss_values) + 1)\n",
        "plt.plot(epochs, loss_values, \"bo\", label=\"Training loss\")\n",
        "plt.plot(epochs, val_loss_values, \"b\", label=\"Validation loss\")\n",
        "plt.title(\"Training and validation loss\")\n",
        "plt.xlabel(\"Epochs\")\n",
        "plt.ylabel(\"Loss\")\n",
        "plt.legend()\n",
        "plt.show()"
      ],
      "metadata": {
        "colab": {
          "base_uri": "https://localhost:8080/",
          "height": 472
        },
        "id": "LnXYwWasj8fM",
        "outputId": "134ba637-f18a-4b6e-da77-3a78a3e8655a"
      },
      "execution_count": 144,
      "outputs": [
        {
          "output_type": "display_data",
          "data": {
            "text/plain": [
              "<Figure size 640x480 with 1 Axes>"
            ],
            "image/png": "[encoded data removed]"
          },
          "metadata": {}
        }
      ]
    },
    {
      "cell_type": "markdown",
      "source": [
        "# 뉴스 기사 분류 : 다중분류 문제\n",
        "- p.160, 1986년 로이터 데이터셋\n",
        "- 46개의 토픽 존재\n",
        "- 10개의 샘플 존재"
      ],
      "metadata": {
        "id": "0vCf9rrR3LGl"
      }
    },
    {
      "cell_type": "code",
      "source": [
        "from tensorflow.keras.datasets import reuters\n",
        "(train_data, train_labels), (test_data, test_labels) = reuters.load_data(num_words = 10000)"
      ],
      "metadata": {
        "colab": {
          "base_uri": "https://localhost:8080/"
        },
        "id": "EeiDVnyL3io_",
        "outputId": "270874ca-1bea-49e6-9cfd-fa2a45c724ca"
      },
      "execution_count": 145,
      "outputs": [
        {
          "output_type": "stream",
          "name": "stdout",
          "text": [
            "Downloading data from https://storage.googleapis.com/tensorflow/tf-keras-datasets/reuters.npz\n",
            "2110848/2110848 [==============================] - 0s 0us/step\n"
          ]
        }
      ]
    },
    {
      "cell_type": "code",
      "source": [
        "len(train_data)"
      ],
      "metadata": {
        "colab": {
          "base_uri": "https://localhost:8080/"
        },
        "id": "POJAsK7j3u7T",
        "outputId": "cee9ad12-2ba9-4f31-bb41-cee0fe4b8c32"
      },
      "execution_count": 146,
      "outputs": [
        {
          "output_type": "execute_result",
          "data": {
            "text/plain": [
              "8982"
            ]
          },
          "metadata": {},
          "execution_count": 146
        }
      ]
    },
    {
      "cell_type": "code",
      "source": [
        "len(test_data)"
      ],
      "metadata": {
        "colab": {
          "base_uri": "https://localhost:8080/"
        },
        "id": "Alx78Rz_3yoz",
        "outputId": "4087672a-85b6-45a6-e957-12ee1d33650b"
      },
      "execution_count": 147,
      "outputs": [
        {
          "output_type": "execute_result",
          "data": {
            "text/plain": [
              "2246"
            ]
          },
          "metadata": {},
          "execution_count": 147
        }
      ]
    },
    {
      "cell_type": "code",
      "source": [
        "train_data[10]"
      ],
      "metadata": {
        "colab": {
          "base_uri": "https://localhost:8080/"
        },
        "id": "_6IUBgyK3zfZ",
        "outputId": "dfb355e4-42e3-4d6e-d0fb-19ade4be9742"
      },
      "execution_count": 148,
      "outputs": [
        {
          "output_type": "execute_result",
          "data": {
            "text/plain": [
              "[1,\n",
              " 245,\n",
              " 273,\n",
              " 207,\n",
              " 156,\n",
              " 53,\n",
              " 74,\n",
              " 160,\n",
              " 26,\n",
              " 14,\n",
              " 46,\n",
              " 296,\n",
              " 26,\n",
              " 39,\n",
              " 74,\n",
              " 2979,\n",
              " 3554,\n",
              " 14,\n",
              " 46,\n",
              " 4689,\n",
              " 4329,\n",
              " 86,\n",
              " 61,\n",
              " 3499,\n",
              " 4795,\n",
              " 14,\n",
              " 61,\n",
              " 451,\n",
              " 4329,\n",
              " 17,\n",
              " 12]"
            ]
          },
          "metadata": {},
          "execution_count": 148
        }
      ]
    },
    {
      "cell_type": "markdown",
      "source": [
        "## 디코딩"
      ],
      "metadata": {
        "id": "dqMhXJfn4C1h"
      }
    },
    {
      "cell_type": "code",
      "source": [
        "word_index = reuters.get_word_index()\n",
        "reverse_word_index = dict(\n",
        "    [(value, key) for (key, value) in word_index.items()])\n",
        "\n",
        "decode_newswire = \" \".join(\n",
        "    [reverse_word_index.get(i-3, \"?\") for i in train_data[0]]\n",
        ")\n",
        "\n",
        "decode_newswire"
      ],
      "metadata": {
        "colab": {
          "base_uri": "https://localhost:8080/",
          "height": 72
        },
        "id": "jxsv5P2u35Pm",
        "outputId": "a7590352-307d-4221-ff47-e3a44f5066f0"
      },
      "execution_count": 150,
      "outputs": [
        {
          "output_type": "execute_result",
          "data": {
            "text/plain": [
              "'? ? ? said as a result of its december acquisition of space co it expects earnings per share in 1987 of 1 15 to 1 30 dlrs per share up from 70 cts in 1986 the company said pretax net should rise to nine to 10 mln dlrs from six mln dlrs in 1986 and rental operation revenues to 19 to 22 mln dlrs from 12 5 mln dlrs it said cash flow per share this year should be 2 50 to three dlrs reuter 3'"
            ],
            "application/vnd.google.colaboratory.intrinsic+json": {
              "type": "string"
            }
          },
          "metadata": {},
          "execution_count": 150
        }
      ]
    },
    {
      "cell_type": "code",
      "source": [
        "train_labels # 토픽의 인덱스가 0~45 사이 정수"
      ],
      "metadata": {
        "colab": {
          "base_uri": "https://localhost:8080/"
        },
        "id": "DLoyn5MD4cRD",
        "outputId": "82557c3a-5818-4921-d06e-3253cf2bb7fb"
      },
      "execution_count": 157,
      "outputs": [
        {
          "output_type": "execute_result",
          "data": {
            "text/plain": [
              "array([ 3,  4,  3, ..., 25,  3, 25])"
            ]
          },
          "metadata": {},
          "execution_count": 157
        }
      ]
    },
    {
      "cell_type": "markdown",
      "source": [
        "## 인코딩\n",
        "- (비유적) 독립변수 전체를 벡터 변환"
      ],
      "metadata": {
        "id": "7r5Zv2vT5C0U"
      }
    },
    {
      "cell_type": "code",
      "source": [
        "x_train = vectorize_sequences(train_data) # 훈련 데이터 벡터 변환\n",
        "x_test = vectorize_sequences(test_data)"
      ],
      "metadata": {
        "id": "BT64i5bG4eZr"
      },
      "execution_count": 158,
      "outputs": []
    },
    {
      "cell_type": "markdown",
      "source": [
        "- 종속변수 전체를 인코딩 ==> 범주형 인코딩"
      ],
      "metadata": {
        "id": "tPQpZA6i5eaT"
      }
    },
    {
      "cell_type": "code",
      "source": [
        "def to_one_hot(labels, dimension=46):\n",
        "    results = np.zeros((len(labels), dimension))\n",
        "    for i, label in enumerate(labels):\n",
        "        results[i, label] = 1.\n",
        "    return results\n",
        "y_train = to_one_hot(train_labels)\n",
        "y_test = to_one_hot(test_labels)"
      ],
      "metadata": {
        "id": "a-x6YQHo5wZN"
      },
      "execution_count": 159,
      "outputs": []
    },
    {
      "cell_type": "code",
      "source": [
        "from keras.utils.np_utils import to_categorical\n",
        "\n",
        "y_train = to_categorical(train_labels)\n",
        "y_test = to_categorical(test_labels)\n",
        "\n",
        "y_train.shape, y_test.shape"
      ],
      "metadata": {
        "colab": {
          "base_uri": "https://localhost:8080/"
        },
        "id": "Duj_veT25x3x",
        "outputId": "64b2ba72-774e-4061-c299-7f00d1c30f34"
      },
      "execution_count": 180,
      "outputs": [
        {
          "output_type": "execute_result",
          "data": {
            "text/plain": [
              "((8982, 46), (2246, 46))"
            ]
          },
          "metadata": {},
          "execution_count": 180
        }
      ]
    },
    {
      "cell_type": "code",
      "source": [
        "y_train[0]"
      ],
      "metadata": {
        "colab": {
          "base_uri": "https://localhost:8080/"
        },
        "id": "05miGrMBE1DH",
        "outputId": "7e7842a5-5385-4aa0-b4e6-bef448647010"
      },
      "execution_count": 181,
      "outputs": [
        {
          "output_type": "execute_result",
          "data": {
            "text/plain": [
              "array([0., 0., 0., 1., 0., 0., 0., 0., 0., 0., 0., 0., 0., 0., 0., 0., 0.,\n",
              "       0., 0., 0., 0., 0., 0., 0., 0., 0., 0., 0., 0., 0., 0., 0., 0., 0.,\n",
              "       0., 0., 0., 0., 0., 0., 0., 0., 0., 0., 0., 0.], dtype=float32)"
            ]
          },
          "metadata": {},
          "execution_count": 181
        }
      ]
    },
    {
      "cell_type": "markdown",
      "source": [
        "## 모델 만들기"
      ],
      "metadata": {
        "id": "4x5XcV0O6XW0"
      }
    },
    {
      "cell_type": "code",
      "source": [
        "from tensorflow import keras\n",
        "from tensorflow.keras import layers\n",
        "\n",
        "\"\"\"\n",
        "model = keras.Sequential([\n",
        "    layers.Dense(16, activation=\"relu\"),\n",
        "    layers.Dense(16, activation=\"relu\"),\n",
        "    layers.Dense(1, activation=\"sigmoid\") # 이진분류 (출력노드)\n",
        "])\n",
        "\"\"\"\n",
        "\n",
        "model = keras.Sequential([\n",
        "    layers.Dense(64, activation=\"relu\"),\n",
        "    layers.Dense(64, activation=\"relu\"),\n",
        "    layers.Dense(46, activation=\"softmax\") # 3개이상 분류로 넘어가면 softmax (출력노드)\n",
        "])\n",
        "\n",
        "# 모델 컴파일하기 (p.163)\n",
        "model.compile(optimizer=\"rmsprop\",\n",
        "              loss=\"categorical_crossentropy\", # y_train = to_categorical(train_labels)\n",
        "              metrics=[\"accuracy\"])"
      ],
      "metadata": {
        "id": "e_EsQlfI54sr"
      },
      "execution_count": 163,
      "outputs": []
    },
    {
      "cell_type": "markdown",
      "source": [
        "## 검증 세트 준비하기"
      ],
      "metadata": {
        "id": "N1zPQKRT7lAx"
      }
    },
    {
      "cell_type": "code",
      "source": [
        "x_val = x_train[:1000]\n",
        "partial_x_train = x_train[1000:]\n",
        "y_val = y_train[:1000]\n",
        "partial_y_train = y_train[1000:]"
      ],
      "metadata": {
        "id": "uUBnxLv37kHe"
      },
      "execution_count": 164,
      "outputs": []
    },
    {
      "cell_type": "markdown",
      "source": [
        "## 모델 훈련하기"
      ],
      "metadata": {
        "id": "rAJ0k1pD7sfA"
      }
    },
    {
      "cell_type": "code",
      "source": [
        "history = model.fit(partial_x_train,\n",
        "                    partial_y_train,\n",
        "                    epochs = 20,\n",
        "                    batch_size = 512,\n",
        "                    validation_data = (x_val, y_val))"
      ],
      "metadata": {
        "colab": {
          "base_uri": "https://localhost:8080/"
        },
        "id": "VNF0Jo877rlI",
        "outputId": "ef159649-59c3-42e5-91f1-14cb7f5a025b"
      },
      "execution_count": 165,
      "outputs": [
        {
          "output_type": "stream",
          "name": "stdout",
          "text": [
            "Epoch 1/20\n",
            "16/16 [==============================] - 5s 73ms/step - loss: 2.6458 - accuracy: 0.5064 - val_loss: 1.8151 - val_accuracy: 0.6100\n",
            "Epoch 2/20\n",
            "16/16 [==============================] - 0s 18ms/step - loss: 1.5471 - accuracy: 0.6704 - val_loss: 1.4201 - val_accuracy: 0.6920\n",
            "Epoch 3/20\n",
            "16/16 [==============================] - 0s 17ms/step - loss: 1.2067 - accuracy: 0.7420 - val_loss: 1.2469 - val_accuracy: 0.7160\n",
            "Epoch 4/20\n",
            "16/16 [==============================] - 0s 19ms/step - loss: 0.9892 - accuracy: 0.7859 - val_loss: 1.1394 - val_accuracy: 0.7510\n",
            "Epoch 5/20\n",
            "16/16 [==============================] - 0s 17ms/step - loss: 0.8191 - accuracy: 0.8266 - val_loss: 1.0476 - val_accuracy: 0.7850\n",
            "Epoch 6/20\n",
            "16/16 [==============================] - 0s 19ms/step - loss: 0.6788 - accuracy: 0.8566 - val_loss: 0.9704 - val_accuracy: 0.7960\n",
            "Epoch 7/20\n",
            "16/16 [==============================] - 0s 17ms/step - loss: 0.5683 - accuracy: 0.8841 - val_loss: 0.9355 - val_accuracy: 0.8000\n",
            "Epoch 8/20\n",
            "16/16 [==============================] - 0s 17ms/step - loss: 0.4716 - accuracy: 0.9038 - val_loss: 0.9363 - val_accuracy: 0.7920\n",
            "Epoch 9/20\n",
            "16/16 [==============================] - 0s 19ms/step - loss: 0.3990 - accuracy: 0.9176 - val_loss: 0.8763 - val_accuracy: 0.8150\n",
            "Epoch 10/20\n",
            "16/16 [==============================] - 0s 18ms/step - loss: 0.3443 - accuracy: 0.9261 - val_loss: 0.8696 - val_accuracy: 0.8100\n",
            "Epoch 11/20\n",
            "16/16 [==============================] - 0s 17ms/step - loss: 0.2895 - accuracy: 0.9356 - val_loss: 0.8952 - val_accuracy: 0.8130\n",
            "Epoch 12/20\n",
            "16/16 [==============================] - 0s 17ms/step - loss: 0.2593 - accuracy: 0.9417 - val_loss: 0.8683 - val_accuracy: 0.8210\n",
            "Epoch 13/20\n",
            "16/16 [==============================] - 0s 19ms/step - loss: 0.2272 - accuracy: 0.9469 - val_loss: 0.9111 - val_accuracy: 0.8110\n",
            "Epoch 14/20\n",
            "16/16 [==============================] - 0s 17ms/step - loss: 0.2028 - accuracy: 0.9509 - val_loss: 0.9334 - val_accuracy: 0.7980\n",
            "Epoch 15/20\n",
            "16/16 [==============================] - 0s 16ms/step - loss: 0.1859 - accuracy: 0.9509 - val_loss: 0.8851 - val_accuracy: 0.8120\n",
            "Epoch 16/20\n",
            "16/16 [==============================] - 0s 16ms/step - loss: 0.1693 - accuracy: 0.9534 - val_loss: 0.9045 - val_accuracy: 0.8170\n",
            "Epoch 17/20\n",
            "16/16 [==============================] - 0s 20ms/step - loss: 0.1573 - accuracy: 0.9551 - val_loss: 0.9263 - val_accuracy: 0.8180\n",
            "Epoch 18/20\n",
            "16/16 [==============================] - 0s 17ms/step - loss: 0.1503 - accuracy: 0.9550 - val_loss: 0.9327 - val_accuracy: 0.8110\n",
            "Epoch 19/20\n",
            "16/16 [==============================] - 0s 17ms/step - loss: 0.1380 - accuracy: 0.9575 - val_loss: 0.9737 - val_accuracy: 0.8030\n",
            "Epoch 20/20\n",
            "16/16 [==============================] - 0s 16ms/step - loss: 0.1361 - accuracy: 0.9575 - val_loss: 0.9814 - val_accuracy: 0.8070\n"
          ]
        }
      ]
    },
    {
      "cell_type": "markdown",
      "source": [
        "## 훈련 / 검증 손실 그리기"
      ],
      "metadata": {
        "id": "9c8DyLkk8Mo8"
      }
    },
    {
      "cell_type": "code",
      "source": [
        "import matplotlib.pyplot as plt\n",
        "history_dict = history.history\n",
        "loss_values = history_dict[\"loss\"]\n",
        "val_loss_values = history_dict[\"val_loss\"]\n",
        "epochs = range(1, len(loss_values) + 1)\n",
        "plt.plot(epochs, loss_values, \"bo\", label=\"Training loss\")\n",
        "plt.plot(epochs, val_loss_values, \"b\", label=\"Validation loss\")\n",
        "plt.title(\"Training and validation loss\")\n",
        "plt.xlabel(\"Epochs\")\n",
        "plt.ylabel(\"Loss\")\n",
        "plt.legend()\n",
        "plt.show()"
      ],
      "metadata": {
        "colab": {
          "base_uri": "https://localhost:8080/",
          "height": 472
        },
        "id": "b94KkRNG8IGB",
        "outputId": "91c5d70f-94d6-457a-920b-8ca31adb650d"
      },
      "execution_count": 166,
      "outputs": [
        {
          "output_type": "display_data",
          "data": {
            "text/plain": [
              "<Figure size 640x480 with 1 Axes>"
            ],
            "image/png": "[encoded data removed]"
          },
          "metadata": {}
        }
      ]
    },
    {
      "cell_type": "markdown",
      "source": [
        "## 모델 재훈련"
      ],
      "metadata": {
        "id": "c8sTnKQK8gw7"
      }
    },
    {
      "cell_type": "code",
      "source": [
        "model.fit(partial_x_train,\n",
        "          partial_y_train,\n",
        "          epochs = 5,\n",
        "          batch_size = 512,\n",
        "          validation_data = (x_val, y_val))"
      ],
      "metadata": {
        "colab": {
          "base_uri": "https://localhost:8080/"
        },
        "id": "mIm8jEHN8gIg",
        "outputId": "c2e3a902-ca68-4416-ca65-5a18b777a23e"
      },
      "execution_count": 168,
      "outputs": [
        {
          "output_type": "stream",
          "name": "stdout",
          "text": [
            "Epoch 1/5\n",
            "16/16 [==============================] - 0s 25ms/step - loss: 0.1115 - accuracy: 0.9580 - val_loss: 1.0167 - val_accuracy: 0.7990\n",
            "Epoch 2/5\n",
            "16/16 [==============================] - 0s 18ms/step - loss: 0.1106 - accuracy: 0.9590 - val_loss: 1.0160 - val_accuracy: 0.8170\n",
            "Epoch 3/5\n",
            "16/16 [==============================] - 0s 20ms/step - loss: 0.1083 - accuracy: 0.9573 - val_loss: 1.0396 - val_accuracy: 0.8060\n",
            "Epoch 4/5\n",
            "16/16 [==============================] - 0s 18ms/step - loss: 0.1044 - accuracy: 0.9602 - val_loss: 1.0411 - val_accuracy: 0.8040\n",
            "Epoch 5/5\n",
            "16/16 [==============================] - 0s 18ms/step - loss: 0.1073 - accuracy: 0.9597 - val_loss: 1.0623 - val_accuracy: 0.7870\n"
          ]
        },
        {
          "output_type": "execute_result",
          "data": {
            "text/plain": [
              "<keras.callbacks.History at 0x7e6eceba1c60>"
            ]
          },
          "metadata": {},
          "execution_count": 168
        }
      ]
    },
    {
      "cell_type": "code",
      "source": [
        "results = model.evaluate(x_test, y_test)\n",
        "results"
      ],
      "metadata": {
        "colab": {
          "base_uri": "https://localhost:8080/"
        },
        "id": "UQP2CRQ68otL",
        "outputId": "1bb4b407-eb43-4c17-f528-ac6d731e5bff"
      },
      "execution_count": 169,
      "outputs": [
        {
          "output_type": "stream",
          "name": "stdout",
          "text": [
            "71/71 [==============================] - 0s 4ms/step - loss: 1.1943 - accuracy: 0.7747\n"
          ]
        },
        {
          "output_type": "execute_result",
          "data": {
            "text/plain": [
              "[1.1943223476409912, 0.7747105956077576]"
            ]
          },
          "metadata": {},
          "execution_count": 169
        }
      ]
    },
    {
      "cell_type": "markdown",
      "source": [
        "- 랜덤 분류기"
      ],
      "metadata": {
        "id": "FTjp6skJ-aUV"
      }
    },
    {
      "cell_type": "code",
      "source": [
        "import copy\n",
        "test_labels_copy = copy.copy(test_labels)\n",
        "np.random.shuffle(test_labels_copy)\n",
        "hits_array = np.array(test_labels) == np.array(test_labels_copy)\n",
        "hits_array.mean()"
      ],
      "metadata": {
        "colab": {
          "base_uri": "https://localhost:8080/"
        },
        "id": "3d1Epl8f-JCC",
        "outputId": "580f35a3-2242-44c6-c433-90ac14990118"
      },
      "execution_count": 170,
      "outputs": [
        {
          "output_type": "execute_result",
          "data": {
            "text/plain": [
              "0.19145146927871773"
            ]
          },
          "metadata": {},
          "execution_count": 170
        }
      ]
    },
    {
      "cell_type": "markdown",
      "source": [
        "## 예측"
      ],
      "metadata": {
        "id": "l6_SLrX5-3UD"
      }
    },
    {
      "cell_type": "code",
      "source": [
        "predictions = model.predict(x_test)\n",
        "predictions[0].shape"
      ],
      "metadata": {
        "colab": {
          "base_uri": "https://localhost:8080/"
        },
        "id": "Ua8tGEm_-mFv",
        "outputId": "b2fe8ef4-d065-4a06-8faa-77ea1bb8ff8f"
      },
      "execution_count": 172,
      "outputs": [
        {
          "output_type": "stream",
          "name": "stdout",
          "text": [
            "71/71 [==============================] - 0s 3ms/step\n"
          ]
        },
        {
          "output_type": "execute_result",
          "data": {
            "text/plain": [
              "(46,)"
            ]
          },
          "metadata": {},
          "execution_count": 172
        }
      ]
    },
    {
      "cell_type": "code",
      "source": [
        "np.sum(predictions[0])"
      ],
      "metadata": {
        "colab": {
          "base_uri": "https://localhost:8080/"
        },
        "id": "j5I1RQ7n-7vp",
        "outputId": "e29443b3-f974-45d7-bee0-e04c6efdec81"
      },
      "execution_count": 173,
      "outputs": [
        {
          "output_type": "execute_result",
          "data": {
            "text/plain": [
              "0.99999994"
            ]
          },
          "metadata": {},
          "execution_count": 173
        }
      ]
    },
    {
      "cell_type": "code",
      "source": [
        "np.argmax(predictions[0])"
      ],
      "metadata": {
        "colab": {
          "base_uri": "https://localhost:8080/"
        },
        "id": "zYTbuCuM_D72",
        "outputId": "410910e4-dd85-4cf2-a4c4-ee809376dbc8"
      },
      "execution_count": 174,
      "outputs": [
        {
          "output_type": "execute_result",
          "data": {
            "text/plain": [
              "3"
            ]
          },
          "metadata": {},
          "execution_count": 174
        }
      ]
    },
    {
      "cell_type": "code",
      "source": [
        "y_train = np.array(train_labels) # 정수형태로 설정\n",
        "y_test = np.array(test_labels)   # 정수형태로 설정\n",
        "\n",
        "y_train.shape, y_test.shape # 1차원 배열"
      ],
      "metadata": {
        "colab": {
          "base_uri": "https://localhost:8080/"
        },
        "id": "XEH3ScI3_uaP",
        "outputId": "b729671c-327a-49c5-9321-88b122581ce9"
      },
      "execution_count": 182,
      "outputs": [
        {
          "output_type": "execute_result",
          "data": {
            "text/plain": [
              "((8982,), (2246,))"
            ]
          },
          "metadata": {},
          "execution_count": 182
        }
      ]
    },
    {
      "cell_type": "code",
      "source": [
        "x_val = x_train[:1000]\n",
        "partial_x_train = x_train[1000:]\n",
        "y_val = y_train[:1000]\n",
        "partial_y_train = y_train[1000:]"
      ],
      "metadata": {
        "id": "aJIS6Ry7_zJa"
      },
      "execution_count": 177,
      "outputs": []
    },
    {
      "cell_type": "code",
      "source": [
        "model = keras.Sequential([\n",
        "    layers.Dense(64, activation=\"relu\"),\n",
        "    layers.Dense(64, activation=\"relu\"),\n",
        "    layers.Dense(46, activation=\"softmax\") # 3개이상 분류로 넘어가면 softmax (출력노드)\n",
        "])\n",
        "\n",
        "# 모델 컴파일하기 (p.163)\n",
        "model.compile(optimizer=\"rmsprop\",\n",
        "              # loss=\"categorical_crossentropy\", # 2차원 배열일 때 사용\n",
        "              loss=\"sparse_categorical_crossentropy\", # 1차원 배열 , np.array(train_labels)\n",
        "              metrics=[\"accuracy\"])\n",
        "\n",
        "model.fit(partial_x_train,\n",
        "          partial_y_train,\n",
        "          epochs = 5,\n",
        "          batch_size = 512,\n",
        "          validation_data = (x_val, y_val))"
      ],
      "metadata": {
        "colab": {
          "base_uri": "https://localhost:8080/"
        },
        "id": "yuR_EUlX_812",
        "outputId": "233cc55a-5263-4b53-8397-5ea977ff42b2"
      },
      "execution_count": 179,
      "outputs": [
        {
          "output_type": "stream",
          "name": "stdout",
          "text": [
            "Epoch 1/5\n",
            "16/16 [==============================] - 1s 32ms/step - loss: 2.8091 - accuracy: 0.4504 - val_loss: 1.9389 - val_accuracy: 0.6020\n",
            "Epoch 2/5\n",
            "16/16 [==============================] - 0s 20ms/step - loss: 1.6468 - accuracy: 0.6456 - val_loss: 1.4641 - val_accuracy: 0.6560\n",
            "Epoch 3/5\n",
            "16/16 [==============================] - 0s 19ms/step - loss: 1.2790 - accuracy: 0.7120 - val_loss: 1.2680 - val_accuracy: 0.7050\n",
            "Epoch 4/5\n",
            "16/16 [==============================] - 0s 19ms/step - loss: 1.0490 - accuracy: 0.7726 - val_loss: 1.1310 - val_accuracy: 0.7440\n",
            "Epoch 5/5\n",
            "16/16 [==============================] - 0s 16ms/step - loss: 0.8724 - accuracy: 0.8128 - val_loss: 1.0523 - val_accuracy: 0.7730\n"
          ]
        },
        {
          "output_type": "execute_result",
          "data": {
            "text/plain": [
              "<keras.callbacks.History at 0x7e6eceba2080>"
            ]
          },
          "metadata": {},
          "execution_count": 179
        }
      ]
    },
    {
      "cell_type": "markdown",
      "source": [
        "# 주택 가격 예측 : 회귀 문제\n",
        "- p.170, 1970년 중반 보스턴 외곽지역 범죄율\n",
        "- 각 특성에 따라 구분이 되어있음"
      ],
      "metadata": {
        "id": "-vPazyx_GbiR"
      }
    },
    {
      "cell_type": "code",
      "source": [
        "from tensorflow.keras.datasets import boston_housing\n",
        "(train_data, train_targets), (test_data, test_targets) = boston_housing.load_data()"
      ],
      "metadata": {
        "colab": {
          "base_uri": "https://localhost:8080/"
        },
        "id": "v5xG7jWGAGaJ",
        "outputId": "7861fb60-3bc6-4e3e-e29e-57cdc2ee9235"
      },
      "execution_count": 183,
      "outputs": [
        {
          "output_type": "stream",
          "name": "stdout",
          "text": [
            "Downloading data from https://storage.googleapis.com/tensorflow/tf-keras-datasets/boston_housing.npz\n",
            "57026/57026 [==============================] - 0s 0us/step\n"
          ]
        }
      ]
    },
    {
      "cell_type": "code",
      "source": [
        "train_data.shape"
      ],
      "metadata": {
        "colab": {
          "base_uri": "https://localhost:8080/"
        },
        "id": "WJ_xT_T-HvC9",
        "outputId": "3d67120d-736d-4a0b-e3ea-65655eefab76"
      },
      "execution_count": 184,
      "outputs": [
        {
          "output_type": "execute_result",
          "data": {
            "text/plain": [
              "(404, 13)"
            ]
          },
          "metadata": {},
          "execution_count": 184
        }
      ]
    },
    {
      "cell_type": "code",
      "source": [
        "test_data.shape"
      ],
      "metadata": {
        "colab": {
          "base_uri": "https://localhost:8080/"
        },
        "id": "xFXRyiEyHww7",
        "outputId": "119a28e1-3809-451b-ad1f-ab636f862593"
      },
      "execution_count": 185,
      "outputs": [
        {
          "output_type": "execute_result",
          "data": {
            "text/plain": [
              "(102, 13)"
            ]
          },
          "metadata": {},
          "execution_count": 185
        }
      ]
    },
    {
      "cell_type": "code",
      "source": [
        "train_targets # 개별적인 수치 데이터"
      ],
      "metadata": {
        "colab": {
          "base_uri": "https://localhost:8080/"
        },
        "id": "x_ay3IOzH0C5",
        "outputId": "2fc854c3-7e77-43aa-8bf4-00972d539f97"
      },
      "execution_count": 186,
      "outputs": [
        {
          "output_type": "execute_result",
          "data": {
            "text/plain": [
              "array([15.2, 42.3, 50. , 21.1, 17.7, 18.5, 11.3, 15.6, 15.6, 14.4, 12.1,\n",
              "       17.9, 23.1, 19.9, 15.7,  8.8, 50. , 22.5, 24.1, 27.5, 10.9, 30.8,\n",
              "       32.9, 24. , 18.5, 13.3, 22.9, 34.7, 16.6, 17.5, 22.3, 16.1, 14.9,\n",
              "       23.1, 34.9, 25. , 13.9, 13.1, 20.4, 20. , 15.2, 24.7, 22.2, 16.7,\n",
              "       12.7, 15.6, 18.4, 21. , 30.1, 15.1, 18.7,  9.6, 31.5, 24.8, 19.1,\n",
              "       22. , 14.5, 11. , 32. , 29.4, 20.3, 24.4, 14.6, 19.5, 14.1, 14.3,\n",
              "       15.6, 10.5,  6.3, 19.3, 19.3, 13.4, 36.4, 17.8, 13.5, 16.5,  8.3,\n",
              "       14.3, 16. , 13.4, 28.6, 43.5, 20.2, 22. , 23. , 20.7, 12.5, 48.5,\n",
              "       14.6, 13.4, 23.7, 50. , 21.7, 39.8, 38.7, 22.2, 34.9, 22.5, 31.1,\n",
              "       28.7, 46. , 41.7, 21. , 26.6, 15. , 24.4, 13.3, 21.2, 11.7, 21.7,\n",
              "       19.4, 50. , 22.8, 19.7, 24.7, 36.2, 14.2, 18.9, 18.3, 20.6, 24.6,\n",
              "       18.2,  8.7, 44. , 10.4, 13.2, 21.2, 37. , 30.7, 22.9, 20. , 19.3,\n",
              "       31.7, 32. , 23.1, 18.8, 10.9, 50. , 19.6,  5. , 14.4, 19.8, 13.8,\n",
              "       19.6, 23.9, 24.5, 25. , 19.9, 17.2, 24.6, 13.5, 26.6, 21.4, 11.9,\n",
              "       22.6, 19.6,  8.5, 23.7, 23.1, 22.4, 20.5, 23.6, 18.4, 35.2, 23.1,\n",
              "       27.9, 20.6, 23.7, 28. , 13.6, 27.1, 23.6, 20.6, 18.2, 21.7, 17.1,\n",
              "        8.4, 25.3, 13.8, 22.2, 18.4, 20.7, 31.6, 30.5, 20.3,  8.8, 19.2,\n",
              "       19.4, 23.1, 23. , 14.8, 48.8, 22.6, 33.4, 21.1, 13.6, 32.2, 13.1,\n",
              "       23.4, 18.9, 23.9, 11.8, 23.3, 22.8, 19.6, 16.7, 13.4, 22.2, 20.4,\n",
              "       21.8, 26.4, 14.9, 24.1, 23.8, 12.3, 29.1, 21. , 19.5, 23.3, 23.8,\n",
              "       17.8, 11.5, 21.7, 19.9, 25. , 33.4, 28.5, 21.4, 24.3, 27.5, 33.1,\n",
              "       16.2, 23.3, 48.3, 22.9, 22.8, 13.1, 12.7, 22.6, 15. , 15.3, 10.5,\n",
              "       24. , 18.5, 21.7, 19.5, 33.2, 23.2,  5. , 19.1, 12.7, 22.3, 10.2,\n",
              "       13.9, 16.3, 17. , 20.1, 29.9, 17.2, 37.3, 45.4, 17.8, 23.2, 29. ,\n",
              "       22. , 18. , 17.4, 34.6, 20.1, 25. , 15.6, 24.8, 28.2, 21.2, 21.4,\n",
              "       23.8, 31. , 26.2, 17.4, 37.9, 17.5, 20. ,  8.3, 23.9,  8.4, 13.8,\n",
              "        7.2, 11.7, 17.1, 21.6, 50. , 16.1, 20.4, 20.6, 21.4, 20.6, 36.5,\n",
              "        8.5, 24.8, 10.8, 21.9, 17.3, 18.9, 36.2, 14.9, 18.2, 33.3, 21.8,\n",
              "       19.7, 31.6, 24.8, 19.4, 22.8,  7.5, 44.8, 16.8, 18.7, 50. , 50. ,\n",
              "       19.5, 20.1, 50. , 17.2, 20.8, 19.3, 41.3, 20.4, 20.5, 13.8, 16.5,\n",
              "       23.9, 20.6, 31.5, 23.3, 16.8, 14. , 33.8, 36.1, 12.8, 18.3, 18.7,\n",
              "       19.1, 29. , 30.1, 50. , 50. , 22. , 11.9, 37.6, 50. , 22.7, 20.8,\n",
              "       23.5, 27.9, 50. , 19.3, 23.9, 22.6, 15.2, 21.7, 19.2, 43.8, 20.3,\n",
              "       33.2, 19.9, 22.5, 32.7, 22. , 17.1, 19. , 15. , 16.1, 25.1, 23.7,\n",
              "       28.7, 37.2, 22.6, 16.4, 25. , 29.8, 22.1, 17.4, 18.1, 30.3, 17.5,\n",
              "       24.7, 12.6, 26.5, 28.7, 13.3, 10.4, 24.4, 23. , 20. , 17.8,  7. ,\n",
              "       11.8, 24.4, 13.8, 19.4, 25.2, 19.4, 19.4, 29.1])"
            ]
          },
          "metadata": {},
          "execution_count": 186
        }
      ]
    },
    {
      "cell_type": "markdown",
      "source": [
        "## 데이터 준비\n",
        "- 정규화하기 : 상이한 스케일을 가진 값을 신경망에 주입하면 문제가 됨"
      ],
      "metadata": {
        "id": "U9hjU--7IAkZ"
      }
    },
    {
      "cell_type": "code",
      "source": [
        "mean = train_data.mean(axis = 0)\n",
        "std = train_data.std(axis = 0)\n",
        "\n",
        "train_data -= mean\n",
        "train_data /= std\n",
        "test_data -= mean\n",
        "test_data /= std"
      ],
      "metadata": {
        "id": "6udVn4hlH2s-"
      },
      "execution_count": 188,
      "outputs": []
    },
    {
      "cell_type": "markdown",
      "source": [
        "## 모델 구성\n",
        "- 샘플개수가 적기 때문에 2개의 중간"
      ],
      "metadata": {
        "id": "Qo3TFzO0KC7S"
      }
    },
    {
      "cell_type": "code",
      "source": [
        "def build_model():\n",
        "  model = keras.Sequential([\n",
        "      layers.Dense(64, activation=\"relu\"),\n",
        "      layers.Dense(64, activation=\"relu\"),\n",
        "      layers.Dense(1)    # 수치 데이터 하나만 예측\n",
        "  ])\n",
        "\n",
        "  model.compile(optimizer = \"rmsprop\", loss = \"mse\", metrics=[\"mae\"])\n",
        "  return model"
      ],
      "metadata": {
        "id": "lVtnft4HIXG1"
      },
      "execution_count": 204,
      "outputs": []
    },
    {
      "cell_type": "markdown",
      "source": [
        "## K-겹 검증 훈련 검증\n",
        "- p.173"
      ],
      "metadata": {
        "id": "NNFfG88aKpYM"
      }
    },
    {
      "cell_type": "code",
      "source": [
        "k = 4\n",
        "num_val_samples = len(train_data) // k\n",
        "num_epochs = 100\n",
        "all_scores = []\n",
        "\n",
        "for i in range(k):\n",
        "  print(f'#{i+1} 번째 폴드 처리중')\n",
        "  # print(i * num_val_samples, (i+1) * num_val_samples)\n",
        "  val_data = train_data[i * num_val_samples:(i+1) * num_val_samples]\n",
        "  val_targets = train_targets[i * num_val_samples:(i+1) * num_val_samples]\n",
        "  # print(f\"0:{i*num_val_samples}\", f\"{(i+1) * num_val_samples}:404\")\n",
        "  partial_train_data = np.concatenate(\n",
        "      [train_data[:i*num_val_samples], train_data[(i+1) * num_val_samples:]],\n",
        "      axis=0\n",
        "  )\n",
        "  partial_train_targets = np.concatenate(\n",
        "      [train_targets[:i*num_val_samples], train_targets[(i+1) * num_val_samples:]],\n",
        "      axis=0\n",
        "  )\n",
        "  model = build_model()\n",
        "  model.fit(partial_train_data, partial_train_targets,\n",
        "            epochs=num_epochs, batch_size=16, verbose=0)\n",
        "  val_mse, val_mae = model.evaluate(val_data, val_targets, verbose=0)\n",
        "  all_scores.append(val_mae)\n",
        "\n",
        "all_scores"
      ],
      "metadata": {
        "colab": {
          "base_uri": "https://localhost:8080/"
        },
        "id": "hunj-XqJKizD",
        "outputId": "3d476fa0-ec2b-4d1d-9053-db388e0272db"
      },
      "execution_count": 205,
      "outputs": [
        {
          "output_type": "stream",
          "name": "stdout",
          "text": [
            "#1 번째 폴드 처리중\n",
            "#2 번째 폴드 처리중\n",
            "#3 번째 폴드 처리중\n",
            "#4 번째 폴드 처리중\n"
          ]
        },
        {
          "output_type": "execute_result",
          "data": {
            "text/plain": [
              "[2.1301815509796143, 2.424220085144043, 2.410642623901367, 2.243675708770752]"
            ]
          },
          "metadata": {},
          "execution_count": 205
        }
      ]
    },
    {
      "cell_type": "code",
      "source": [
        "np.mean(all_scores)"
      ],
      "metadata": {
        "colab": {
          "base_uri": "https://localhost:8080/"
        },
        "id": "LXW6y-TwK1pk",
        "outputId": "51052059-f517-44a8-bb7e-010ddf6bc7bc"
      },
      "execution_count": 206,
      "outputs": [
        {
          "output_type": "execute_result",
          "data": {
            "text/plain": [
              "2.302179992198944"
            ]
          },
          "metadata": {},
          "execution_count": 206
        }
      ]
    },
    {
      "cell_type": "code",
      "source": [
        "num_epochs = 500\n",
        "all_mae_histories = []\n",
        "for i in range(k):\n",
        "    print(f\"#{i}번째 폴드 처리중\")\n",
        "    val_data = train_data[i * num_val_samples: (i + 1) * num_val_samples]\n",
        "    val_targets = train_targets[i * num_val_samples: (i + 1) * num_val_samples]\n",
        "    partial_train_data = np.concatenate(\n",
        "        [train_data[:i * num_val_samples],\n",
        "         train_data[(i + 1) * num_val_samples:]],\n",
        "        axis=0)\n",
        "    partial_train_targets = np.concatenate(\n",
        "        [train_targets[:i * num_val_samples],\n",
        "         train_targets[(i + 1) * num_val_samples:]],\n",
        "        axis=0)\n",
        "    model = build_model()\n",
        "    history = model.fit(partial_train_data, partial_train_targets,\n",
        "                        validation_data=(val_data, val_targets),\n",
        "                        epochs=num_epochs, batch_size=16, verbose=0)\n",
        "    mae_history = history.history[\"val_mae\"]\n",
        "    all_mae_histories.append(mae_history)"
      ],
      "metadata": {
        "colab": {
          "base_uri": "https://localhost:8080/"
        },
        "id": "qn4zQhk4NkWt",
        "outputId": "5e47e214-eac0-4155-d956-6436a6dcc56d"
      },
      "execution_count": 207,
      "outputs": [
        {
          "output_type": "stream",
          "name": "stdout",
          "text": [
            "#0번째 폴드 처리중\n",
            "#1번째 폴드 처리중\n",
            "#2번째 폴드 처리중\n",
            "#3번째 폴드 처리중\n"
          ]
        }
      ]
    },
    {
      "cell_type": "code",
      "source": [
        "average_mae_history = [\n",
        "    np.mean([x[i] for x in all_mae_histories]) for i in range(num_epochs)]"
      ],
      "metadata": {
        "id": "_n9M3FUwNsGH"
      },
      "execution_count": 208,
      "outputs": []
    },
    {
      "cell_type": "code",
      "source": [
        "plt.plot(range(1, len(average_mae_history) + 1), average_mae_history)\n",
        "plt.xlabel(\"Epochs\")\n",
        "plt.ylabel(\"Validation MAE\")\n",
        "plt.show()"
      ],
      "metadata": {
        "colab": {
          "base_uri": "https://localhost:8080/",
          "height": 452
        },
        "id": "LyM8B8SfN6um",
        "outputId": "b2707775-5b61-4211-8867-8e76ab9b073f"
      },
      "execution_count": 209,
      "outputs": [
        {
          "output_type": "display_data",
          "data": {
            "text/plain": [
              "<Figure size 640x480 with 1 Axes>"
            ],
            "image/png": "[encoded data removed]"
          },
          "metadata": {}
        }
      ]
    }
  ]
}